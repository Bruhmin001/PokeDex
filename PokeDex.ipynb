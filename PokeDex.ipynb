{
 "cells": [
  {
   "cell_type": "code",
   "execution_count": null,
   "metadata": {},
   "outputs": [],
   "source": []
  },
  {
   "cell_type": "code",
   "execution_count": 1,
   "metadata": {},
   "outputs": [],
   "source": [
    "import pandas as pd\n",
    "import numpy as np\n",
    "import matplotlib.pyplot as plt\n",
    "import PIL.Image \n",
    "import PIL.ImageTk\n",
    "from tkinter import *\n",
    "import matplotlib.pyplot as plt"
   ]
  },
  {
   "cell_type": "code",
   "execution_count": 2,
   "metadata": {},
   "outputs": [
    {
     "data": {
      "text/html": [
       "<div>\n",
       "<style scoped>\n",
       "    .dataframe tbody tr th:only-of-type {\n",
       "        vertical-align: middle;\n",
       "    }\n",
       "\n",
       "    .dataframe tbody tr th {\n",
       "        vertical-align: top;\n",
       "    }\n",
       "\n",
       "    .dataframe thead th {\n",
       "        text-align: right;\n",
       "    }\n",
       "</style>\n",
       "<table border=\"1\" class=\"dataframe\">\n",
       "  <thead>\n",
       "    <tr style=\"text-align: right;\">\n",
       "      <th></th>\n",
       "      <th>No.</th>\n",
       "      <th>Pokemon</th>\n",
       "      <th>Type 1</th>\n",
       "      <th>Type 2</th>\n",
       "      <th>HP</th>\n",
       "      <th>ATK</th>\n",
       "      <th>DEF</th>\n",
       "      <th>SPA</th>\n",
       "      <th>SPD</th>\n",
       "      <th>SPE</th>\n",
       "      <th>BST</th>\n",
       "      <th>ABILITY 1</th>\n",
       "      <th>ABILITY 2</th>\n",
       "      <th>HIDDEN ABILITY</th>\n",
       "      <th>can mega</th>\n",
       "      <th>Pokemon.1</th>\n",
       "    </tr>\n",
       "  </thead>\n",
       "  <tbody>\n",
       "    <tr>\n",
       "      <th>0</th>\n",
       "      <td>1.0</td>\n",
       "      <td>BULBASAUR</td>\n",
       "      <td>GRASS</td>\n",
       "      <td>POISON</td>\n",
       "      <td>45</td>\n",
       "      <td>49</td>\n",
       "      <td>49</td>\n",
       "      <td>65</td>\n",
       "      <td>65</td>\n",
       "      <td>45</td>\n",
       "      <td>318</td>\n",
       "      <td>OVERGROW</td>\n",
       "      <td>NA</td>\n",
       "      <td>CHLOROPHYLL</td>\n",
       "      <td>NA</td>\n",
       "      <td>BULBASAUR</td>\n",
       "    </tr>\n",
       "    <tr>\n",
       "      <th>1</th>\n",
       "      <td>2.0</td>\n",
       "      <td>IVYSAUR</td>\n",
       "      <td>GRASS</td>\n",
       "      <td>POISON</td>\n",
       "      <td>60</td>\n",
       "      <td>62</td>\n",
       "      <td>63</td>\n",
       "      <td>80</td>\n",
       "      <td>80</td>\n",
       "      <td>60</td>\n",
       "      <td>405</td>\n",
       "      <td>OVERGROW</td>\n",
       "      <td>NA</td>\n",
       "      <td>CHLOROPHYLL</td>\n",
       "      <td>NA</td>\n",
       "      <td>IVYSAUR</td>\n",
       "    </tr>\n",
       "    <tr>\n",
       "      <th>2</th>\n",
       "      <td>3.0</td>\n",
       "      <td>VENUSAUR</td>\n",
       "      <td>GRASS</td>\n",
       "      <td>POISON</td>\n",
       "      <td>80</td>\n",
       "      <td>82</td>\n",
       "      <td>83</td>\n",
       "      <td>100</td>\n",
       "      <td>100</td>\n",
       "      <td>80</td>\n",
       "      <td>525</td>\n",
       "      <td>OVERGROW</td>\n",
       "      <td>NA</td>\n",
       "      <td>CHLOROPHYLL</td>\n",
       "      <td>TRUE</td>\n",
       "      <td>VENUSAUR</td>\n",
       "    </tr>\n",
       "    <tr>\n",
       "      <th>3</th>\n",
       "      <td>3.0</td>\n",
       "      <td>VENUSAUR-GMAX</td>\n",
       "      <td>GRASS</td>\n",
       "      <td>POISON</td>\n",
       "      <td>80</td>\n",
       "      <td>82</td>\n",
       "      <td>83</td>\n",
       "      <td>100</td>\n",
       "      <td>100</td>\n",
       "      <td>80</td>\n",
       "      <td>525</td>\n",
       "      <td>OVERGROW</td>\n",
       "      <td>NA</td>\n",
       "      <td>CHLOROPHYLL</td>\n",
       "      <td>NA</td>\n",
       "      <td>VENUSAUR_GMAX</td>\n",
       "    </tr>\n",
       "    <tr>\n",
       "      <th>4</th>\n",
       "      <td>3.1</td>\n",
       "      <td>MEGA VENUSAUR</td>\n",
       "      <td>GRASS</td>\n",
       "      <td>POISON</td>\n",
       "      <td>80</td>\n",
       "      <td>100</td>\n",
       "      <td>123</td>\n",
       "      <td>122</td>\n",
       "      <td>120</td>\n",
       "      <td>80</td>\n",
       "      <td>625</td>\n",
       "      <td>THICK FAT</td>\n",
       "      <td>NA</td>\n",
       "      <td>NA</td>\n",
       "      <td>NA</td>\n",
       "      <td>VENUSAUR_1</td>\n",
       "    </tr>\n",
       "  </tbody>\n",
       "</table>\n",
       "</div>"
      ],
      "text/plain": [
       "   No.        Pokemon Type 1 Type 2   HP  ATK  DEF  SPA  SPD  SPE  BST  \\\n",
       "0  1.0      BULBASAUR  GRASS  POISON  45   49   49   65   65   45  318   \n",
       "1  2.0        IVYSAUR  GRASS  POISON  60   62   63   80   80   60  405   \n",
       "2  3.0       VENUSAUR  GRASS  POISON  80   82   83  100  100   80  525   \n",
       "3  3.0  VENUSAUR-GMAX  GRASS  POISON  80   82   83  100  100   80  525   \n",
       "4  3.1  MEGA VENUSAUR  GRASS  POISON  80  100  123  122  120   80  625   \n",
       "\n",
       "   ABILITY 1 ABILITY 2 HIDDEN ABILITY can mega      Pokemon.1  \n",
       "0   OVERGROW        NA    CHLOROPHYLL       NA      BULBASAUR  \n",
       "1   OVERGROW        NA    CHLOROPHYLL       NA        IVYSAUR  \n",
       "2   OVERGROW        NA    CHLOROPHYLL     TRUE       VENUSAUR  \n",
       "3   OVERGROW        NA    CHLOROPHYLL       NA  VENUSAUR_GMAX  \n",
       "4  THICK FAT        NA             NA       NA     VENUSAUR_1  "
      ]
     },
     "execution_count": 2,
     "metadata": {},
     "output_type": "execute_result"
    }
   ],
   "source": [
    "# Data Frame Stuff\n",
    "df = pd.read_csv(\"Dex.csv\")\n",
    "df.iloc[:,1] = df.iloc[:,1] .map(str.upper)\n",
    "df.iloc[:,2] = df.iloc[:,2] .map(str.upper)\n",
    "df.iloc[:,3] = df.iloc[:,3] .map(str.upper)\n",
    "df.iloc[:,11] = df.iloc[:,11] .map(str.upper)\n",
    "df.iloc[:,12] = df.iloc[:,12] .map(str.upper)\n",
    "df.iloc[:,13] = df.iloc[:,13] .map(str.upper)\n",
    "df.iloc[:,14] = df.iloc[:,14] .map(str.upper)\n",
    "df.iloc[:,15] = df.iloc[:,15] .map(str.upper)\n",
    "df['No.'] = df[\"No.\"].astype(float)\n",
    "df.head()\n"
   ]
  },
  {
   "cell_type": "code",
   "execution_count": 3,
   "metadata": {},
   "outputs": [
    {
     "name": "stdout",
     "output_type": "stream",
     "text": [
      "[215.0, 'SNEASEL', 'DARK', 'ICE', 55, 95, 55, 35, 75, 115, 430, 'INNER FOCUS', 'KEEN EYE', 'PICKPOCKET', 'NA', 'SNEASEL']\n",
      "215.0\n"
     ]
    },
    {
     "name": "stderr",
     "output_type": "stream",
     "text": [
      "C:\\Users\\Khush Trivedi\\AppData\\Local\\Temp\\ipykernel_45392\\4269047060.py:5: DeprecationWarning: Conversion of an array with ndim > 0 to a scalar is deprecated, and will error in future. Ensure you extract a single element from your array before performing this operation. (Deprecated NumPy 1.25.)\n",
      "  randno = int(np.random.randint(1,len(names),1))\n"
     ]
    }
   ],
   "source": [
    "\n",
    "pkm = input(\"Enter the Name of the pokemon to get the info\")\n",
    "pkm = str.upper(pkm)\n",
    "if pkm == 'RANDOM':\n",
    "    names = list(df['Pokemon'].values)\n",
    "    randno = int(np.random.randint(1,len(names),1))\n",
    "    pkm = names[randno] \n",
    "if pkm in df['Pokemon'].values:\n",
    "    # stats = df[df['Pokemon'] == pkm]\n",
    "    # stats = list(stats.values[0])\n",
    "    curr_ind =df[df['Pokemon']==pkm]['No.']\n",
    "    curr_ind = float(curr_ind.iloc[0])\n",
    "else:\n",
    "    print(\"nhi hai\") \n",
    "\n",
    "stats = df[df['No.'] == curr_ind]\n",
    "stats = list(stats.values[0])\n",
    "print(stats)\n",
    "print(curr_ind)"
   ]
  },
  {
   "cell_type": "code",
   "execution_count": 4,
   "metadata": {},
   "outputs": [
    {
     "data": {
      "text/plain": [
       "''"
      ]
     },
     "execution_count": 4,
     "metadata": {},
     "output_type": "execute_result"
    }
   ],
   "source": [
    "#Metadata\n",
    "root = Tk()\n",
    "root.title(\"DexNav\")\n"
   ]
  },
  {
   "cell_type": "code",
   "execution_count": 5,
   "metadata": {},
   "outputs": [
    {
     "name": "stdout",
     "output_type": "stream",
     "text": [
      "[215.0, 'SNEASEL', 'DARK', 'ICE', 55, 95, 55, 35, 75, 115, 430, 'INNER FOCUS', 'KEEN EYE', 'PICKPOCKET', 'NA', 'SNEASEL']\n"
     ]
    }
   ],
   "source": [
    "#defining Variables\n",
    "\n",
    "Flipped = False\n",
    "Shiny = False\n",
    "dex_no = str(int(stats[0]))\n",
    "pkm_name = str(stats[1])\n",
    "type1 = str(stats[2])\n",
    "type2 = str(stats[3])\n",
    "hp = str(stats[4])\n",
    "atk = str(stats[5])\n",
    "defen = str(stats[6])\n",
    "spatk = str(stats[7])\n",
    "spdef = str(stats[8])\n",
    "spe = str(stats[9])\n",
    "bst = str(stats[10])\n",
    "ab1 = str(stats[11])\n",
    "ab2 = str(stats[12])\n",
    "hab = str(stats[13])\n",
    "meg = str(stats[14])\n",
    "img_name=str(stats[15])\n",
    "img_name = img_name.replace(\" \",\"\")\n",
    "imgf = PIL.ImageTk.PhotoImage(PIL.Image.open(\"Front/\"+img_name+\".png\"))\n",
    "imgb = PIL.ImageTk.PhotoImage(PIL.Image.open(\"Back/\"+img_name+\".png\"))\n",
    "imgfs = PIL.ImageTk.PhotoImage(PIL.Image.open(\"Front shiny/\"+img_name+\".png\"))\n",
    "imgbs = PIL.ImageTk.PhotoImage(PIL.Image.open(\"Back shiny/\"+ img_name+\".png\"))\n",
    "\n",
    "print(stats)\n"
   ]
  },
  {
   "cell_type": "code",
   "execution_count": 6,
   "metadata": {},
   "outputs": [],
   "source": [
    "#Labeling\n",
    "nod = Label(root , text=\"Dex No: \"+dex_no)\n",
    "nod.grid(row=0,column=1)\n",
    "named = Label(root , text=\"Name: \"+pkm_name)\n",
    "named.grid(row=1,column=1)\n",
    "typd = Label(root , text=\"Typing: \"+type1+'    '+type2)\n",
    "typd.grid(row=2,column=1)\n",
    "hpd = Label(root , text=\"HP: \"+hp)\n",
    "hpd.grid(row=3,column=1)\n",
    "atkd = Label(root , text=\"Attack: \"+atk)\n",
    "atkd.grid(row=4,column=1)\n",
    "defd = Label(root , text=\"Defence: \"+defen)\n",
    "defd.grid(row=5,column=1)\n",
    "spatkd = Label(root , text=\"Sp. Attack: \"+spatk)\n",
    "spatkd.grid(row=6,column=1)\n",
    "spdefd = Label(root , text=\"Sp.  Defence: \"+spdef)\n",
    "spdefd.grid(row=7,column=1)\n",
    "sped = Label(root , text=\"Speed: \"+spe)\n",
    "sped.grid(row=8,column=1)\n",
    "bstd = Label(root , text=\"BST: \"+bst)\n",
    "bstd.grid(row=9,column=1)\n",
    "ab1d = Label(root , text=\"Ability 1: \"+ab1)\n",
    "ab1d.grid(row=11,column=0)\n",
    "ab2d = Label(root , text=\"       Ability 2: \"+ab2)\n",
    "ab2d.grid(row=11,column=2)\n",
    "habd = Label(root , text=\"Hidden Ability: \"+hab)\n",
    "habd.grid(row=12,column=1)\n",
    "imgd = Label(image=imgf)\n",
    "imgd.grid(row=1,column=3,rowspan=9)\n"
   ]
  },
  {
   "cell_type": "code",
   "execution_count": 7,
   "metadata": {},
   "outputs": [],
   "source": [
    "\n",
    "def updater(stats,imgd):\n",
    "    print(\"Updating\")\n",
    "    print(stats)\n",
    "    dex_no = str(int(stats[0]))\n",
    "    pkm_name = str(stats[1])\n",
    "    type1 = str(stats[2])\n",
    "    type2 = str(stats[3])\n",
    "    hp = str(stats[4])\n",
    "    atk = str(stats[5])\n",
    "    defen = str(stats[6])\n",
    "    spatk = str(stats[7])\n",
    "    spdef = str(stats[8])\n",
    "    spe = str(stats[9])\n",
    "    bst = str(stats[10])\n",
    "    ab1 = str(stats[11])\n",
    "    ab2 = str(stats[12])\n",
    "    hab = str(stats[13])\n",
    "    meg = str(stats[14])\n",
    "    img_name=str(stats[15])\n",
    "    imgf = PIL.ImageTk.PhotoImage(PIL.Image.open(\"Front/\"+img_name+\".png\"))\n",
    "    imgb = PIL.ImageTk.PhotoImage(PIL.Image.open(\"Back/\"+img_name+\".png\"))\n",
    "    imgfs = PIL.ImageTk.PhotoImage(PIL.Image.open(\"Front shiny/\"+img_name+\".png\"))\n",
    "    imgbs = PIL.ImageTk.PhotoImage(PIL.Image.open(\"Back shiny/\"+ img_name+\".png\"))\n",
    "    nod.config(text=\"Dex No: \" + dex_no)\n",
    "    named.config(text=\"Name: \" + pkm_name)\n",
    "    typd.config(text=\"Typing: \" + type1 +\"  \"+type2)\n",
    "    hpd.config(text=\"HP: \" + hp)\n",
    "    atkd.config(text=\"Attack: \" +atk)\n",
    "    defd.config(text=\"Defence: \" + defen)\n",
    "    spatkd.config(text=\"Sp. Attack: \" + spatk)\n",
    "    spdefd.config(text=\"Sp. Defence: \" + spdef)\n",
    "    sped.config(text=\"Speed: \" + spe)\n",
    "    bstd.config(text=\"BST: \" + bst)\n",
    "    ab1d.config(text=\"Ability 1: \" + ab1)\n",
    "    ab2d.config(text=\"       Ability 2: \" + ab2)\n",
    "    habd.config(text=\"Hidden Ability: \" + hab)\n",
    "    if Flipped == True and Shiny == False:\n",
    "        imgd.config(image=imgb)\n",
    "        imgd.image = imgb    \n",
    "    elif Flipped == False and Shiny == False:\n",
    "        imgd.config(image=imgf)\n",
    "        imgd.image = imgf\n",
    "    elif Flipped == False and Shiny == True:\n",
    "        imgd.config(image=imgfs)\n",
    "        imgd.image = imgfs\n",
    "    elif Flipped == True and Shiny == True:\n",
    "        imgd.config(image=imgbs)\n",
    "        imgd.image = imgbs\n",
    "    if meg == \"TRUE\":\n",
    "        print(\"mega\")\n",
    "        megaevo = Button(root, text=\"Mega\", command=Mega).grid(row=13, column=1)\n",
    "        megaevo.grid(row=13, column=1)\n",
    "    else:\n",
    "        megaevo = Button(root, text=\"Mega\", command=Mega).grid(row=13, column=1)\n",
    "        megaevo.grid(row=-13, column=-1)\n",
    "        megaevo.grid_forget()\n",
    "    return imgb,imgbs,imgfs,imgf,meg,img_name,stats,megaevo\n",
    "    \n",
    "def Flip(imgd,stats):\n",
    "    global Flipped,Shiny \n",
    "    if Flipped == False and Shiny == False:\n",
    "        Flipped = True\n",
    "        imgd.config(image=imgb)\n",
    "        imgd.image = imgb\n",
    "    elif Flipped == True and Shiny == False:\n",
    "        Flipped = False\n",
    "        imgd.config(image=imgf)\n",
    "        imgd.image = imgf\n",
    "    elif Flipped == True and Shiny == True:\n",
    "        Flipped = False\n",
    "        imgd.config(image=imgfs)\n",
    "        imgd.image = imgfs\n",
    "    elif Flipped == False and Shiny == True:\n",
    "        Flipped = True\n",
    "        imgd.config(image=imgbs)\n",
    "        imgd.image = imgbs\n",
    "    updater(stats,imgd)\n",
    "        \n",
    "def Shine(imgd,stats):\n",
    "    global Flipped,Shiny  # Declare Flipped as global to modify its value\n",
    "    if Flipped == False and Shiny == False:\n",
    "        Shiny = True\n",
    "    elif Flipped == True and Shiny == False:\n",
    "        Shiny= True\n",
    "    elif Flipped == True and Shiny == True:\n",
    "        Shiny = False\n",
    "    elif Flipped == False and Shiny == True:\n",
    "        Shiny= False\n",
    "    updater(stats,imgd)\n",
    "\n",
    "def Mega():\n",
    "    global curr_ind , stats\n",
    "    curr_ind += 0.1\n",
    "    stats = df[df['No.'] == curr_ind].values.tolist()[0]\n",
    "\n",
    "    updater(stats,imgd)\n",
    "\n",
    "def nex():\n",
    "    global curr_ind , stats\n",
    "    curr_ind += 1\n",
    "    curr_ind = int(curr_ind)\n",
    "    stats = df[df['No.'] == curr_ind].values.tolist()[0]\n",
    "    updater(stats,imgd)\n",
    "    return stats\n",
    "\n",
    "def prev():\n",
    "    global curr_ind , stats \n",
    "    curr_ind -= 1 \n",
    "    curr_ind = int(curr_ind)\n",
    "    stats = df[df['No.'] == curr_ind].values.tolist()[0]\n",
    "    updater(stats,imgd)\n",
    "    print(stats)\n",
    "    return stats\n",
    "\n",
    "def random():\n",
    "    global curr_ind , stats\n",
    "    curr_ind = int(np.random.randint(1,905,1))\n",
    "    print (curr_ind)\n",
    "    stats = df[df['No.'] == curr_ind].values.tolist()[0]\n",
    "    updater(stats,imgd)\n",
    "\n",
    "    \n",
    "    "
   ]
  },
  {
   "cell_type": "code",
   "execution_count": 8,
   "metadata": {},
   "outputs": [],
   "source": [
    "#Buttons\n",
    "flip = Button(root, text=\"Flip\", command=lambda: Flip(imgd,stats)).grid(row=13, column=0)\n",
    "shinyfy = Button(root, text=\"Shiny\", command=lambda: Shine(imgd,stats)).grid(row=13, column=2)\n",
    "if meg == \"TRUE\":\n",
    "    megaevo = Button(root, text=\"Mega\", command=Mega).grid(row=13, column=1)\n",
    "prev_button = Button(root, text=\"<<\", command=prev).grid(row=0,column=0)\n",
    "next_button = Button(root, text=\">>\", command=nex).grid(row=0,column=2)\n",
    "refresh = Button(root,text=\"random\",command=random).grid(row=13,column=3)\n"
   ]
  },
  {
   "cell_type": "code",
   "execution_count": null,
   "metadata": {},
   "outputs": [],
   "source": [
    "\n",
    "    \n"
   ]
  },
  {
   "cell_type": "code",
   "execution_count": null,
   "metadata": {},
   "outputs": [],
   "source": []
  },
  {
   "cell_type": "code",
   "execution_count": null,
   "metadata": {},
   "outputs": [],
   "source": []
  },
  {
   "cell_type": "code",
   "execution_count": 9,
   "metadata": {},
   "outputs": [
    {
     "name": "stdout",
     "output_type": "stream",
     "text": [
      "Updating\n",
      "[215.0, 'SNEASEL', 'DARK', 'ICE', 55, 95, 55, 35, 75, 115, 430, 'INNER FOCUS', 'KEEN EYE', 'PICKPOCKET', 'NA', 'SNEASEL']\n"
     ]
    },
    {
     "name": "stderr",
     "output_type": "stream",
     "text": [
      "Exception in Tkinter callback\n",
      "Traceback (most recent call last):\n",
      "  File \"c:\\Users\\Khush Trivedi\\AppData\\Local\\Programs\\Python\\Python311\\Lib\\tkinter\\__init__.py\", line 1948, in __call__\n",
      "    return self.func(*args)\n",
      "           ^^^^^^^^^^^^^^^^\n",
      "  File \"C:\\Users\\Khush Trivedi\\AppData\\Local\\Temp\\ipykernel_45392\\1084590276.py\", line 3, in <lambda>\n",
      "    shinyfy = Button(root, text=\"Shiny\", command=lambda: Shine(imgd,stats)).grid(row=13, column=2)\n",
      "                                                         ^^^^^^^^^^^^^^^^^\n",
      "  File \"C:\\Users\\Khush Trivedi\\AppData\\Local\\Temp\\ipykernel_45392\\3972728098.py\", line 89, in Shine\n",
      "    updater(stats,imgd)\n",
      "  File \"C:\\Users\\Khush Trivedi\\AppData\\Local\\Temp\\ipykernel_45392\\3972728098.py\", line 55, in updater\n",
      "    megaevo.grid(row=-13, column=-1)\n",
      "    ^^^^^^^^^^^^\n",
      "AttributeError: 'NoneType' object has no attribute 'grid'\n"
     ]
    },
    {
     "name": "stdout",
     "output_type": "stream",
     "text": [
      "Updating\n",
      "[215.0, 'SNEASEL', 'DARK', 'ICE', 55, 95, 55, 35, 75, 115, 430, 'INNER FOCUS', 'KEEN EYE', 'PICKPOCKET', 'NA', 'SNEASEL']\n"
     ]
    },
    {
     "name": "stderr",
     "output_type": "stream",
     "text": [
      "Exception in Tkinter callback\n",
      "Traceback (most recent call last):\n",
      "  File \"c:\\Users\\Khush Trivedi\\AppData\\Local\\Programs\\Python\\Python311\\Lib\\tkinter\\__init__.py\", line 1948, in __call__\n",
      "    return self.func(*args)\n",
      "           ^^^^^^^^^^^^^^^^\n",
      "  File \"C:\\Users\\Khush Trivedi\\AppData\\Local\\Temp\\ipykernel_45392\\1084590276.py\", line 3, in <lambda>\n",
      "    shinyfy = Button(root, text=\"Shiny\", command=lambda: Shine(imgd,stats)).grid(row=13, column=2)\n",
      "                                                         ^^^^^^^^^^^^^^^^^\n",
      "  File \"C:\\Users\\Khush Trivedi\\AppData\\Local\\Temp\\ipykernel_45392\\3972728098.py\", line 89, in Shine\n",
      "    updater(stats,imgd)\n",
      "  File \"C:\\Users\\Khush Trivedi\\AppData\\Local\\Temp\\ipykernel_45392\\3972728098.py\", line 55, in updater\n",
      "    megaevo.grid(row=-13, column=-1)\n",
      "    ^^^^^^^^^^^^\n",
      "AttributeError: 'NoneType' object has no attribute 'grid'\n"
     ]
    },
    {
     "name": "stdout",
     "output_type": "stream",
     "text": [
      "Updating\n",
      "[215.0, 'SNEASEL', 'DARK', 'ICE', 55, 95, 55, 35, 75, 115, 430, 'INNER FOCUS', 'KEEN EYE', 'PICKPOCKET', 'NA', 'SNEASEL']\n"
     ]
    },
    {
     "name": "stderr",
     "output_type": "stream",
     "text": [
      "Exception in Tkinter callback\n",
      "Traceback (most recent call last):\n",
      "  File \"c:\\Users\\Khush Trivedi\\AppData\\Local\\Programs\\Python\\Python311\\Lib\\tkinter\\__init__.py\", line 1948, in __call__\n",
      "    return self.func(*args)\n",
      "           ^^^^^^^^^^^^^^^^\n",
      "  File \"C:\\Users\\Khush Trivedi\\AppData\\Local\\Temp\\ipykernel_45392\\1084590276.py\", line 3, in <lambda>\n",
      "    shinyfy = Button(root, text=\"Shiny\", command=lambda: Shine(imgd,stats)).grid(row=13, column=2)\n",
      "                                                         ^^^^^^^^^^^^^^^^^\n",
      "  File \"C:\\Users\\Khush Trivedi\\AppData\\Local\\Temp\\ipykernel_45392\\3972728098.py\", line 89, in Shine\n",
      "    updater(stats,imgd)\n",
      "  File \"C:\\Users\\Khush Trivedi\\AppData\\Local\\Temp\\ipykernel_45392\\3972728098.py\", line 55, in updater\n",
      "    megaevo.grid(row=-13, column=-1)\n",
      "    ^^^^^^^^^^^^\n",
      "AttributeError: 'NoneType' object has no attribute 'grid'\n"
     ]
    },
    {
     "name": "stdout",
     "output_type": "stream",
     "text": [
      "Updating\n",
      "[215.0, 'SNEASEL', 'DARK', 'ICE', 55, 95, 55, 35, 75, 115, 430, 'INNER FOCUS', 'KEEN EYE', 'PICKPOCKET', 'NA', 'SNEASEL']\n"
     ]
    },
    {
     "name": "stderr",
     "output_type": "stream",
     "text": [
      "Exception in Tkinter callback\n",
      "Traceback (most recent call last):\n",
      "  File \"c:\\Users\\Khush Trivedi\\AppData\\Local\\Programs\\Python\\Python311\\Lib\\tkinter\\__init__.py\", line 1948, in __call__\n",
      "    return self.func(*args)\n",
      "           ^^^^^^^^^^^^^^^^\n",
      "  File \"C:\\Users\\Khush Trivedi\\AppData\\Local\\Temp\\ipykernel_45392\\1084590276.py\", line 3, in <lambda>\n",
      "    shinyfy = Button(root, text=\"Shiny\", command=lambda: Shine(imgd,stats)).grid(row=13, column=2)\n",
      "                                                         ^^^^^^^^^^^^^^^^^\n",
      "  File \"C:\\Users\\Khush Trivedi\\AppData\\Local\\Temp\\ipykernel_45392\\3972728098.py\", line 89, in Shine\n",
      "    updater(stats,imgd)\n",
      "  File \"C:\\Users\\Khush Trivedi\\AppData\\Local\\Temp\\ipykernel_45392\\3972728098.py\", line 55, in updater\n",
      "    megaevo.grid(row=-13, column=-1)\n",
      "    ^^^^^^^^^^^^\n",
      "AttributeError: 'NoneType' object has no attribute 'grid'\n"
     ]
    },
    {
     "name": "stdout",
     "output_type": "stream",
     "text": [
      "Updating\n",
      "[215.0, 'SNEASEL', 'DARK', 'ICE', 55, 95, 55, 35, 75, 115, 430, 'INNER FOCUS', 'KEEN EYE', 'PICKPOCKET', 'NA', 'SNEASEL']\n"
     ]
    },
    {
     "name": "stderr",
     "output_type": "stream",
     "text": [
      "Exception in Tkinter callback\n",
      "Traceback (most recent call last):\n",
      "  File \"c:\\Users\\Khush Trivedi\\AppData\\Local\\Programs\\Python\\Python311\\Lib\\tkinter\\__init__.py\", line 1948, in __call__\n",
      "    return self.func(*args)\n",
      "           ^^^^^^^^^^^^^^^^\n",
      "  File \"C:\\Users\\Khush Trivedi\\AppData\\Local\\Temp\\ipykernel_45392\\1084590276.py\", line 3, in <lambda>\n",
      "    shinyfy = Button(root, text=\"Shiny\", command=lambda: Shine(imgd,stats)).grid(row=13, column=2)\n",
      "                                                         ^^^^^^^^^^^^^^^^^\n",
      "  File \"C:\\Users\\Khush Trivedi\\AppData\\Local\\Temp\\ipykernel_45392\\3972728098.py\", line 89, in Shine\n",
      "    updater(stats,imgd)\n",
      "  File \"C:\\Users\\Khush Trivedi\\AppData\\Local\\Temp\\ipykernel_45392\\3972728098.py\", line 55, in updater\n",
      "    megaevo.grid(row=-13, column=-1)\n",
      "    ^^^^^^^^^^^^\n",
      "AttributeError: 'NoneType' object has no attribute 'grid'\n"
     ]
    },
    {
     "name": "stdout",
     "output_type": "stream",
     "text": [
      "Updating\n",
      "[215.0, 'SNEASEL', 'DARK', 'ICE', 55, 95, 55, 35, 75, 115, 430, 'INNER FOCUS', 'KEEN EYE', 'PICKPOCKET', 'NA', 'SNEASEL']\n"
     ]
    },
    {
     "name": "stderr",
     "output_type": "stream",
     "text": [
      "Exception in Tkinter callback\n",
      "Traceback (most recent call last):\n",
      "  File \"c:\\Users\\Khush Trivedi\\AppData\\Local\\Programs\\Python\\Python311\\Lib\\tkinter\\__init__.py\", line 1948, in __call__\n",
      "    return self.func(*args)\n",
      "           ^^^^^^^^^^^^^^^^\n",
      "  File \"C:\\Users\\Khush Trivedi\\AppData\\Local\\Temp\\ipykernel_45392\\1084590276.py\", line 3, in <lambda>\n",
      "    shinyfy = Button(root, text=\"Shiny\", command=lambda: Shine(imgd,stats)).grid(row=13, column=2)\n",
      "                                                         ^^^^^^^^^^^^^^^^^\n",
      "  File \"C:\\Users\\Khush Trivedi\\AppData\\Local\\Temp\\ipykernel_45392\\3972728098.py\", line 89, in Shine\n",
      "    updater(stats,imgd)\n",
      "  File \"C:\\Users\\Khush Trivedi\\AppData\\Local\\Temp\\ipykernel_45392\\3972728098.py\", line 55, in updater\n",
      "    megaevo.grid(row=-13, column=-1)\n",
      "    ^^^^^^^^^^^^\n",
      "AttributeError: 'NoneType' object has no attribute 'grid'\n",
      "C:\\Users\\Khush Trivedi\\AppData\\Local\\Temp\\ipykernel_45392\\3972728098.py:117: DeprecationWarning: Conversion of an array with ndim > 0 to a scalar is deprecated, and will error in future. Ensure you extract a single element from your array before performing this operation. (Deprecated NumPy 1.25.)\n",
      "  curr_ind = int(np.random.randint(1,905,1))\n",
      "Exception in Tkinter callback\n",
      "Traceback (most recent call last):\n",
      "  File \"c:\\Users\\Khush Trivedi\\AppData\\Local\\Programs\\Python\\Python311\\Lib\\tkinter\\__init__.py\", line 1948, in __call__\n",
      "    return self.func(*args)\n",
      "           ^^^^^^^^^^^^^^^^\n",
      "  File \"C:\\Users\\Khush Trivedi\\AppData\\Local\\Temp\\ipykernel_45392\\3972728098.py\", line 120, in random\n",
      "    updater(stats,imgd)\n",
      "  File \"C:\\Users\\Khush Trivedi\\AppData\\Local\\Temp\\ipykernel_45392\\3972728098.py\", line 55, in updater\n",
      "    megaevo.grid(row=-13, column=-1)\n",
      "    ^^^^^^^^^^^^\n",
      "AttributeError: 'NoneType' object has no attribute 'grid'\n"
     ]
    },
    {
     "name": "stdout",
     "output_type": "stream",
     "text": [
      "829\n",
      "Updating\n",
      "[829.0, 'GOSSIFLEUR', 'GRASS', 'NA', 40, 40, 60, 40, 60, 10, 250, 'COTTON DOWN', 'REGENERATOR', 'EFFECT SPORE', 'NA', 'GOSSIFLEUR']\n",
      "881\n",
      "Updating\n",
      "[881.0, 'ARCTOZOLT', 'ELECTRIC', 'ICE', 90, 100, 90, 90, 80, 55, 505, 'VOLT ABSORB', 'STATIC', 'SLUSH RUSH', 'NA', 'ARCTOZOLT']\n"
     ]
    },
    {
     "name": "stderr",
     "output_type": "stream",
     "text": [
      "Exception in Tkinter callback\n",
      "Traceback (most recent call last):\n",
      "  File \"c:\\Users\\Khush Trivedi\\AppData\\Local\\Programs\\Python\\Python311\\Lib\\tkinter\\__init__.py\", line 1948, in __call__\n",
      "    return self.func(*args)\n",
      "           ^^^^^^^^^^^^^^^^\n",
      "  File \"C:\\Users\\Khush Trivedi\\AppData\\Local\\Temp\\ipykernel_45392\\3972728098.py\", line 120, in random\n",
      "    updater(stats,imgd)\n",
      "  File \"C:\\Users\\Khush Trivedi\\AppData\\Local\\Temp\\ipykernel_45392\\3972728098.py\", line 55, in updater\n",
      "    megaevo.grid(row=-13, column=-1)\n",
      "    ^^^^^^^^^^^^\n",
      "AttributeError: 'NoneType' object has no attribute 'grid'\n"
     ]
    },
    {
     "name": "stdout",
     "output_type": "stream",
     "text": [
      "200\n",
      "Updating\n",
      "[200.0, 'MISDREAVUS', 'GHOST', 'NA', 60, 60, 60, 85, 85, 85, 435, 'LEVITATE', 'NA', 'NA', 'NA', 'MISDREAVUS']\n"
     ]
    },
    {
     "name": "stderr",
     "output_type": "stream",
     "text": [
      "Exception in Tkinter callback\n",
      "Traceback (most recent call last):\n",
      "  File \"c:\\Users\\Khush Trivedi\\AppData\\Local\\Programs\\Python\\Python311\\Lib\\tkinter\\__init__.py\", line 1948, in __call__\n",
      "    return self.func(*args)\n",
      "           ^^^^^^^^^^^^^^^^\n",
      "  File \"C:\\Users\\Khush Trivedi\\AppData\\Local\\Temp\\ipykernel_45392\\3972728098.py\", line 120, in random\n",
      "    updater(stats,imgd)\n",
      "  File \"C:\\Users\\Khush Trivedi\\AppData\\Local\\Temp\\ipykernel_45392\\3972728098.py\", line 55, in updater\n",
      "    megaevo.grid(row=-13, column=-1)\n",
      "    ^^^^^^^^^^^^\n",
      "AttributeError: 'NoneType' object has no attribute 'grid'\n"
     ]
    },
    {
     "name": "stdout",
     "output_type": "stream",
     "text": [
      "583\n",
      "Updating\n",
      "[583.0, 'VANILLISH', 'ICE', 'NA', 51, 65, 65, 80, 75, 59, 395, 'ICE BODY', 'SNOW CLOAK', 'WEAK ARMOR', 'NA', 'VANILLISH']\n"
     ]
    },
    {
     "name": "stderr",
     "output_type": "stream",
     "text": [
      "Exception in Tkinter callback\n",
      "Traceback (most recent call last):\n",
      "  File \"c:\\Users\\Khush Trivedi\\AppData\\Local\\Programs\\Python\\Python311\\Lib\\tkinter\\__init__.py\", line 1948, in __call__\n",
      "    return self.func(*args)\n",
      "           ^^^^^^^^^^^^^^^^\n",
      "  File \"C:\\Users\\Khush Trivedi\\AppData\\Local\\Temp\\ipykernel_45392\\3972728098.py\", line 120, in random\n",
      "    updater(stats,imgd)\n",
      "  File \"C:\\Users\\Khush Trivedi\\AppData\\Local\\Temp\\ipykernel_45392\\3972728098.py\", line 55, in updater\n",
      "    megaevo.grid(row=-13, column=-1)\n",
      "    ^^^^^^^^^^^^\n",
      "AttributeError: 'NoneType' object has no attribute 'grid'\n",
      "Exception in Tkinter callback\n",
      "Traceback (most recent call last):\n",
      "  File \"c:\\Users\\Khush Trivedi\\AppData\\Local\\Programs\\Python\\Python311\\Lib\\tkinter\\__init__.py\", line 1948, in __call__\n",
      "    return self.func(*args)\n",
      "           ^^^^^^^^^^^^^^^^\n",
      "  File \"C:\\Users\\Khush Trivedi\\AppData\\Local\\Temp\\ipykernel_45392\\3972728098.py\", line 94, in Mega\n",
      "    stats = df[df['No.'] == curr_ind].values.tolist()[0]\n",
      "            ~~~~~~~~~~~~~~~~~~~~~~~~~~~~~~~~~~~~~~~~~^^^\n",
      "IndexError: list index out of range\n",
      "Exception in Tkinter callback\n",
      "Traceback (most recent call last):\n",
      "  File \"c:\\Users\\Khush Trivedi\\AppData\\Local\\Programs\\Python\\Python311\\Lib\\tkinter\\__init__.py\", line 1948, in __call__\n",
      "    return self.func(*args)\n",
      "           ^^^^^^^^^^^^^^^^\n",
      "  File \"C:\\Users\\Khush Trivedi\\AppData\\Local\\Temp\\ipykernel_45392\\3972728098.py\", line 94, in Mega\n",
      "    stats = df[df['No.'] == curr_ind].values.tolist()[0]\n",
      "            ~~~~~~~~~~~~~~~~~~~~~~~~~~~~~~~~~~~~~~~~~^^^\n",
      "IndexError: list index out of range\n"
     ]
    },
    {
     "name": "stdout",
     "output_type": "stream",
     "text": [
      "Updating\n",
      "[583.0, 'VANILLISH', 'ICE', 'NA', 51, 65, 65, 80, 75, 59, 395, 'ICE BODY', 'SNOW CLOAK', 'WEAK ARMOR', 'NA', 'VANILLISH']\n"
     ]
    },
    {
     "name": "stderr",
     "output_type": "stream",
     "text": [
      "Exception in Tkinter callback\n",
      "Traceback (most recent call last):\n",
      "  File \"c:\\Users\\Khush Trivedi\\AppData\\Local\\Programs\\Python\\Python311\\Lib\\tkinter\\__init__.py\", line 1948, in __call__\n",
      "    return self.func(*args)\n",
      "           ^^^^^^^^^^^^^^^^\n",
      "  File \"C:\\Users\\Khush Trivedi\\AppData\\Local\\Temp\\ipykernel_45392\\1084590276.py\", line 3, in <lambda>\n",
      "    shinyfy = Button(root, text=\"Shiny\", command=lambda: Shine(imgd,stats)).grid(row=13, column=2)\n",
      "                                                         ^^^^^^^^^^^^^^^^^\n",
      "  File \"C:\\Users\\Khush Trivedi\\AppData\\Local\\Temp\\ipykernel_45392\\3972728098.py\", line 89, in Shine\n",
      "    updater(stats,imgd)\n",
      "  File \"C:\\Users\\Khush Trivedi\\AppData\\Local\\Temp\\ipykernel_45392\\3972728098.py\", line 55, in updater\n",
      "    megaevo.grid(row=-13, column=-1)\n",
      "    ^^^^^^^^^^^^\n",
      "AttributeError: 'NoneType' object has no attribute 'grid'\n"
     ]
    },
    {
     "name": "stdout",
     "output_type": "stream",
     "text": [
      "Updating\n",
      "[583.0, 'VANILLISH', 'ICE', 'NA', 51, 65, 65, 80, 75, 59, 395, 'ICE BODY', 'SNOW CLOAK', 'WEAK ARMOR', 'NA', 'VANILLISH']\n"
     ]
    },
    {
     "name": "stderr",
     "output_type": "stream",
     "text": [
      "Exception in Tkinter callback\n",
      "Traceback (most recent call last):\n",
      "  File \"c:\\Users\\Khush Trivedi\\AppData\\Local\\Programs\\Python\\Python311\\Lib\\tkinter\\__init__.py\", line 1948, in __call__\n",
      "    return self.func(*args)\n",
      "           ^^^^^^^^^^^^^^^^\n",
      "  File \"C:\\Users\\Khush Trivedi\\AppData\\Local\\Temp\\ipykernel_45392\\1084590276.py\", line 2, in <lambda>\n",
      "    flip = Button(root, text=\"Flip\", command=lambda: Flip(imgd,stats)).grid(row=13, column=0)\n",
      "                                                     ^^^^^^^^^^^^^^^^\n",
      "  File \"C:\\Users\\Khush Trivedi\\AppData\\Local\\Temp\\ipykernel_45392\\3972728098.py\", line 77, in Flip\n",
      "    updater(stats,imgd)\n",
      "  File \"C:\\Users\\Khush Trivedi\\AppData\\Local\\Temp\\ipykernel_45392\\3972728098.py\", line 55, in updater\n",
      "    megaevo.grid(row=-13, column=-1)\n",
      "    ^^^^^^^^^^^^\n",
      "AttributeError: 'NoneType' object has no attribute 'grid'\n"
     ]
    },
    {
     "name": "stdout",
     "output_type": "stream",
     "text": [
      "Updating\n",
      "[583.0, 'VANILLISH', 'ICE', 'NA', 51, 65, 65, 80, 75, 59, 395, 'ICE BODY', 'SNOW CLOAK', 'WEAK ARMOR', 'NA', 'VANILLISH']\n"
     ]
    },
    {
     "name": "stderr",
     "output_type": "stream",
     "text": [
      "Exception in Tkinter callback\n",
      "Traceback (most recent call last):\n",
      "  File \"c:\\Users\\Khush Trivedi\\AppData\\Local\\Programs\\Python\\Python311\\Lib\\tkinter\\__init__.py\", line 1948, in __call__\n",
      "    return self.func(*args)\n",
      "           ^^^^^^^^^^^^^^^^\n",
      "  File \"C:\\Users\\Khush Trivedi\\AppData\\Local\\Temp\\ipykernel_45392\\1084590276.py\", line 2, in <lambda>\n",
      "    flip = Button(root, text=\"Flip\", command=lambda: Flip(imgd,stats)).grid(row=13, column=0)\n",
      "                                                     ^^^^^^^^^^^^^^^^\n",
      "  File \"C:\\Users\\Khush Trivedi\\AppData\\Local\\Temp\\ipykernel_45392\\3972728098.py\", line 77, in Flip\n",
      "    updater(stats,imgd)\n",
      "  File \"C:\\Users\\Khush Trivedi\\AppData\\Local\\Temp\\ipykernel_45392\\3972728098.py\", line 55, in updater\n",
      "    megaevo.grid(row=-13, column=-1)\n",
      "    ^^^^^^^^^^^^\n",
      "AttributeError: 'NoneType' object has no attribute 'grid'\n"
     ]
    },
    {
     "name": "stdout",
     "output_type": "stream",
     "text": [
      "Updating\n",
      "[582.0, 'VANILLITE', 'ICE', 'NA', 36, 50, 50, 65, 60, 44, 305, 'ICE BODY', 'SNOW CLOAK', 'WEAK ARMOR', 'NA', 'VANILLITE']\n"
     ]
    },
    {
     "name": "stderr",
     "output_type": "stream",
     "text": [
      "Exception in Tkinter callback\n",
      "Traceback (most recent call last):\n",
      "  File \"c:\\Users\\Khush Trivedi\\AppData\\Local\\Programs\\Python\\Python311\\Lib\\tkinter\\__init__.py\", line 1948, in __call__\n",
      "    return self.func(*args)\n",
      "           ^^^^^^^^^^^^^^^^\n",
      "  File \"C:\\Users\\Khush Trivedi\\AppData\\Local\\Temp\\ipykernel_45392\\3972728098.py\", line 111, in prev\n",
      "    updater(stats,imgd)\n",
      "  File \"C:\\Users\\Khush Trivedi\\AppData\\Local\\Temp\\ipykernel_45392\\3972728098.py\", line 55, in updater\n",
      "    megaevo.grid(row=-13, column=-1)\n",
      "    ^^^^^^^^^^^^\n",
      "AttributeError: 'NoneType' object has no attribute 'grid'\n"
     ]
    },
    {
     "name": "stdout",
     "output_type": "stream",
     "text": [
      "Updating\n",
      "[581.0, 'SWANNA', 'WATER', 'FLYING', 75, 87, 63, 87, 63, 98, 473, 'KEEN EYE', 'BIG PECKS', 'HYDRATION', 'NA', 'SWANNA']\n",
      "Updating\n",
      "[580.0, 'DUCKLETT', 'WATER', 'FLYING', 62, 44, 50, 44, 50, 55, 305, 'KEEN EYE', 'BIG PECKS', 'HYDRATION', 'NA', 'DUCKLETT']\n"
     ]
    },
    {
     "name": "stderr",
     "output_type": "stream",
     "text": [
      "Exception in Tkinter callback\n",
      "Traceback (most recent call last):\n",
      "  File \"c:\\Users\\Khush Trivedi\\AppData\\Local\\Programs\\Python\\Python311\\Lib\\tkinter\\__init__.py\", line 1948, in __call__\n",
      "    return self.func(*args)\n",
      "           ^^^^^^^^^^^^^^^^\n",
      "  File \"C:\\Users\\Khush Trivedi\\AppData\\Local\\Temp\\ipykernel_45392\\3972728098.py\", line 111, in prev\n",
      "    updater(stats,imgd)\n",
      "  File \"C:\\Users\\Khush Trivedi\\AppData\\Local\\Temp\\ipykernel_45392\\3972728098.py\", line 55, in updater\n",
      "    megaevo.grid(row=-13, column=-1)\n",
      "    ^^^^^^^^^^^^\n",
      "AttributeError: 'NoneType' object has no attribute 'grid'\n",
      "Exception in Tkinter callback\n",
      "Traceback (most recent call last):\n",
      "  File \"c:\\Users\\Khush Trivedi\\AppData\\Local\\Programs\\Python\\Python311\\Lib\\tkinter\\__init__.py\", line 1948, in __call__\n",
      "    return self.func(*args)\n",
      "           ^^^^^^^^^^^^^^^^\n",
      "  File \"C:\\Users\\Khush Trivedi\\AppData\\Local\\Temp\\ipykernel_45392\\3972728098.py\", line 111, in prev\n",
      "    updater(stats,imgd)\n",
      "  File \"C:\\Users\\Khush Trivedi\\AppData\\Local\\Temp\\ipykernel_45392\\3972728098.py\", line 55, in updater\n",
      "    megaevo.grid(row=-13, column=-1)\n",
      "    ^^^^^^^^^^^^\n",
      "AttributeError: 'NoneType' object has no attribute 'grid'\n"
     ]
    },
    {
     "name": "stdout",
     "output_type": "stream",
     "text": [
      "Updating\n",
      "[579.0, 'REUNICLUS', 'PSYCHIC', 'NA', 110, 65, 75, 125, 85, 30, 490, 'OVERCOAT', 'MAGIC GUARD', 'REGENERATOR', 'NA', 'REUNICLUS']\n"
     ]
    },
    {
     "name": "stderr",
     "output_type": "stream",
     "text": [
      "Exception in Tkinter callback\n",
      "Traceback (most recent call last):\n",
      "  File \"c:\\Users\\Khush Trivedi\\AppData\\Local\\Programs\\Python\\Python311\\Lib\\tkinter\\__init__.py\", line 1948, in __call__\n",
      "    return self.func(*args)\n",
      "           ^^^^^^^^^^^^^^^^\n",
      "  File \"C:\\Users\\Khush Trivedi\\AppData\\Local\\Temp\\ipykernel_45392\\3972728098.py\", line 111, in prev\n",
      "    updater(stats,imgd)\n",
      "  File \"C:\\Users\\Khush Trivedi\\AppData\\Local\\Temp\\ipykernel_45392\\3972728098.py\", line 55, in updater\n",
      "    megaevo.grid(row=-13, column=-1)\n",
      "    ^^^^^^^^^^^^\n",
      "AttributeError: 'NoneType' object has no attribute 'grid'\n"
     ]
    },
    {
     "name": "stdout",
     "output_type": "stream",
     "text": [
      "Updating\n",
      "[578.0, 'DUOSION', 'PSYCHIC', 'NA', 65, 40, 50, 125, 60, 30, 370, 'OVERCOAT', 'MAGIC GUARD', 'REGENERATOR', 'NA', 'DUOSION']\n"
     ]
    },
    {
     "name": "stderr",
     "output_type": "stream",
     "text": [
      "Exception in Tkinter callback\n",
      "Traceback (most recent call last):\n",
      "  File \"c:\\Users\\Khush Trivedi\\AppData\\Local\\Programs\\Python\\Python311\\Lib\\tkinter\\__init__.py\", line 1948, in __call__\n",
      "    return self.func(*args)\n",
      "           ^^^^^^^^^^^^^^^^\n",
      "  File \"C:\\Users\\Khush Trivedi\\AppData\\Local\\Temp\\ipykernel_45392\\3972728098.py\", line 111, in prev\n",
      "    updater(stats,imgd)\n",
      "  File \"C:\\Users\\Khush Trivedi\\AppData\\Local\\Temp\\ipykernel_45392\\3972728098.py\", line 55, in updater\n",
      "    megaevo.grid(row=-13, column=-1)\n",
      "    ^^^^^^^^^^^^\n",
      "AttributeError: 'NoneType' object has no attribute 'grid'\n",
      "Exception in Tkinter callback\n",
      "Traceback (most recent call last):\n",
      "  File \"c:\\Users\\Khush Trivedi\\AppData\\Local\\Programs\\Python\\Python311\\Lib\\tkinter\\__init__.py\", line 1948, in __call__\n",
      "    return self.func(*args)\n",
      "           ^^^^^^^^^^^^^^^^\n",
      "  File \"C:\\Users\\Khush Trivedi\\AppData\\Local\\Temp\\ipykernel_45392\\3972728098.py\", line 94, in Mega\n",
      "    stats = df[df['No.'] == curr_ind].values.tolist()[0]\n",
      "            ~~~~~~~~~~~~~~~~~~~~~~~~~~~~~~~~~~~~~~~~~^^^\n",
      "IndexError: list index out of range\n"
     ]
    },
    {
     "name": "stdout",
     "output_type": "stream",
     "text": [
      "Updating\n",
      "[578.0, 'DUOSION', 'PSYCHIC', 'NA', 65, 40, 50, 125, 60, 30, 370, 'OVERCOAT', 'MAGIC GUARD', 'REGENERATOR', 'NA', 'DUOSION']\n"
     ]
    },
    {
     "name": "stderr",
     "output_type": "stream",
     "text": [
      "Exception in Tkinter callback\n",
      "Traceback (most recent call last):\n",
      "  File \"c:\\Users\\Khush Trivedi\\AppData\\Local\\Programs\\Python\\Python311\\Lib\\tkinter\\__init__.py\", line 1948, in __call__\n",
      "    return self.func(*args)\n",
      "           ^^^^^^^^^^^^^^^^\n",
      "  File \"C:\\Users\\Khush Trivedi\\AppData\\Local\\Temp\\ipykernel_45392\\1084590276.py\", line 3, in <lambda>\n",
      "    shinyfy = Button(root, text=\"Shiny\", command=lambda: Shine(imgd,stats)).grid(row=13, column=2)\n",
      "                                                         ^^^^^^^^^^^^^^^^^\n",
      "  File \"C:\\Users\\Khush Trivedi\\AppData\\Local\\Temp\\ipykernel_45392\\3972728098.py\", line 89, in Shine\n",
      "    updater(stats,imgd)\n",
      "  File \"C:\\Users\\Khush Trivedi\\AppData\\Local\\Temp\\ipykernel_45392\\3972728098.py\", line 55, in updater\n",
      "    megaevo.grid(row=-13, column=-1)\n",
      "    ^^^^^^^^^^^^\n",
      "AttributeError: 'NoneType' object has no attribute 'grid'\n"
     ]
    },
    {
     "name": "stdout",
     "output_type": "stream",
     "text": [
      "Updating\n",
      "[577.0, 'SOLOSIS', 'PSYCHIC', 'NA', 45, 30, 40, 105, 50, 20, 290, 'OVERCOAT', 'MAGIC GUARD', 'REGENERATOR', 'NA', 'SOLOSIS']\n"
     ]
    },
    {
     "name": "stderr",
     "output_type": "stream",
     "text": [
      "Exception in Tkinter callback\n",
      "Traceback (most recent call last):\n",
      "  File \"c:\\Users\\Khush Trivedi\\AppData\\Local\\Programs\\Python\\Python311\\Lib\\tkinter\\__init__.py\", line 1948, in __call__\n",
      "    return self.func(*args)\n",
      "           ^^^^^^^^^^^^^^^^\n",
      "  File \"C:\\Users\\Khush Trivedi\\AppData\\Local\\Temp\\ipykernel_45392\\3972728098.py\", line 111, in prev\n",
      "    updater(stats,imgd)\n",
      "  File \"C:\\Users\\Khush Trivedi\\AppData\\Local\\Temp\\ipykernel_45392\\3972728098.py\", line 55, in updater\n",
      "    megaevo.grid(row=-13, column=-1)\n",
      "    ^^^^^^^^^^^^\n",
      "AttributeError: 'NoneType' object has no attribute 'grid'\n"
     ]
    },
    {
     "name": "stdout",
     "output_type": "stream",
     "text": [
      "Updating\n",
      "[576.0, 'GOTHITELLE', 'PSYCHIC', 'NA', 70, 55, 95, 95, 110, 65, 490, 'FRISK', 'COMPETITIVE', 'SHADOW TAG', 'NA', 'GOTHITELLE']\n"
     ]
    },
    {
     "name": "stderr",
     "output_type": "stream",
     "text": [
      "Exception in Tkinter callback\n",
      "Traceback (most recent call last):\n",
      "  File \"c:\\Users\\Khush Trivedi\\AppData\\Local\\Programs\\Python\\Python311\\Lib\\tkinter\\__init__.py\", line 1948, in __call__\n",
      "    return self.func(*args)\n",
      "           ^^^^^^^^^^^^^^^^\n",
      "  File \"C:\\Users\\Khush Trivedi\\AppData\\Local\\Temp\\ipykernel_45392\\3972728098.py\", line 111, in prev\n",
      "    updater(stats,imgd)\n",
      "  File \"C:\\Users\\Khush Trivedi\\AppData\\Local\\Temp\\ipykernel_45392\\3972728098.py\", line 55, in updater\n",
      "    megaevo.grid(row=-13, column=-1)\n",
      "    ^^^^^^^^^^^^\n",
      "AttributeError: 'NoneType' object has no attribute 'grid'\n"
     ]
    },
    {
     "name": "stdout",
     "output_type": "stream",
     "text": [
      "Updating\n",
      "[575.0, 'GOTHORITA', 'PSYCHIC', 'NA', 60, 45, 70, 75, 85, 55, 390, 'FRISK', 'COMPETITIVE', 'SHADOW TAG', 'NA', 'GOTHORITA']\n"
     ]
    },
    {
     "name": "stderr",
     "output_type": "stream",
     "text": [
      "Exception in Tkinter callback\n",
      "Traceback (most recent call last):\n",
      "  File \"c:\\Users\\Khush Trivedi\\AppData\\Local\\Programs\\Python\\Python311\\Lib\\tkinter\\__init__.py\", line 1948, in __call__\n",
      "    return self.func(*args)\n",
      "           ^^^^^^^^^^^^^^^^\n",
      "  File \"C:\\Users\\Khush Trivedi\\AppData\\Local\\Temp\\ipykernel_45392\\3972728098.py\", line 111, in prev\n",
      "    updater(stats,imgd)\n",
      "  File \"C:\\Users\\Khush Trivedi\\AppData\\Local\\Temp\\ipykernel_45392\\3972728098.py\", line 55, in updater\n",
      "    megaevo.grid(row=-13, column=-1)\n",
      "    ^^^^^^^^^^^^\n",
      "AttributeError: 'NoneType' object has no attribute 'grid'\n"
     ]
    },
    {
     "name": "stdout",
     "output_type": "stream",
     "text": [
      "Updating\n",
      "[574.0, 'GOTHITA', 'PSYCHIC', 'NA', 45, 30, 50, 55, 65, 45, 290, 'FRISK', 'COMPETITIVE', 'SHADOW TAG', 'NA', 'GOTHITA']\n"
     ]
    },
    {
     "name": "stderr",
     "output_type": "stream",
     "text": [
      "Exception in Tkinter callback\n",
      "Traceback (most recent call last):\n",
      "  File \"c:\\Users\\Khush Trivedi\\AppData\\Local\\Programs\\Python\\Python311\\Lib\\tkinter\\__init__.py\", line 1948, in __call__\n",
      "    return self.func(*args)\n",
      "           ^^^^^^^^^^^^^^^^\n",
      "  File \"C:\\Users\\Khush Trivedi\\AppData\\Local\\Temp\\ipykernel_45392\\3972728098.py\", line 111, in prev\n",
      "    updater(stats,imgd)\n",
      "  File \"C:\\Users\\Khush Trivedi\\AppData\\Local\\Temp\\ipykernel_45392\\3972728098.py\", line 55, in updater\n",
      "    megaevo.grid(row=-13, column=-1)\n",
      "    ^^^^^^^^^^^^\n",
      "AttributeError: 'NoneType' object has no attribute 'grid'\n"
     ]
    },
    {
     "name": "stdout",
     "output_type": "stream",
     "text": [
      "Updating\n",
      "[573.0, 'CINCCINO', 'NORMAL', 'NA', 75, 95, 60, 65, 60, 115, 470, 'CUTE CHARM', 'TECHNICIAN', 'SKILL LINK', 'NA', 'CINCCINO']\n"
     ]
    },
    {
     "name": "stderr",
     "output_type": "stream",
     "text": [
      "Exception in Tkinter callback\n",
      "Traceback (most recent call last):\n",
      "  File \"c:\\Users\\Khush Trivedi\\AppData\\Local\\Programs\\Python\\Python311\\Lib\\tkinter\\__init__.py\", line 1948, in __call__\n",
      "    return self.func(*args)\n",
      "           ^^^^^^^^^^^^^^^^\n",
      "  File \"C:\\Users\\Khush Trivedi\\AppData\\Local\\Temp\\ipykernel_45392\\3972728098.py\", line 111, in prev\n",
      "    updater(stats,imgd)\n",
      "  File \"C:\\Users\\Khush Trivedi\\AppData\\Local\\Temp\\ipykernel_45392\\3972728098.py\", line 55, in updater\n",
      "    megaevo.grid(row=-13, column=-1)\n",
      "    ^^^^^^^^^^^^\n",
      "AttributeError: 'NoneType' object has no attribute 'grid'\n"
     ]
    },
    {
     "name": "stdout",
     "output_type": "stream",
     "text": [
      "Updating\n",
      "[572.0, 'MINCCINO', 'NORMAL', 'NA', 55, 50, 40, 40, 40, 75, 300, 'CUTE CHARM', 'TECHNICIAN', 'SKILL LINK', 'NA', 'MINCCINO']\n"
     ]
    },
    {
     "name": "stderr",
     "output_type": "stream",
     "text": [
      "Exception in Tkinter callback\n",
      "Traceback (most recent call last):\n",
      "  File \"c:\\Users\\Khush Trivedi\\AppData\\Local\\Programs\\Python\\Python311\\Lib\\tkinter\\__init__.py\", line 1948, in __call__\n",
      "    return self.func(*args)\n",
      "           ^^^^^^^^^^^^^^^^\n",
      "  File \"C:\\Users\\Khush Trivedi\\AppData\\Local\\Temp\\ipykernel_45392\\3972728098.py\", line 111, in prev\n",
      "    updater(stats,imgd)\n",
      "  File \"C:\\Users\\Khush Trivedi\\AppData\\Local\\Temp\\ipykernel_45392\\3972728098.py\", line 55, in updater\n",
      "    megaevo.grid(row=-13, column=-1)\n",
      "    ^^^^^^^^^^^^\n",
      "AttributeError: 'NoneType' object has no attribute 'grid'\n"
     ]
    },
    {
     "name": "stdout",
     "output_type": "stream",
     "text": [
      "Updating\n",
      "[571.0, 'ZOROARK', 'DARK', 'NA', 60, 105, 60, 120, 60, 105, 510, 'ILLUSION', 'NA', 'NA', 'NA', 'ZOROARK']\n"
     ]
    },
    {
     "name": "stderr",
     "output_type": "stream",
     "text": [
      "Exception in Tkinter callback\n",
      "Traceback (most recent call last):\n",
      "  File \"c:\\Users\\Khush Trivedi\\AppData\\Local\\Programs\\Python\\Python311\\Lib\\tkinter\\__init__.py\", line 1948, in __call__\n",
      "    return self.func(*args)\n",
      "           ^^^^^^^^^^^^^^^^\n",
      "  File \"C:\\Users\\Khush Trivedi\\AppData\\Local\\Temp\\ipykernel_45392\\3972728098.py\", line 111, in prev\n",
      "    updater(stats,imgd)\n",
      "  File \"C:\\Users\\Khush Trivedi\\AppData\\Local\\Temp\\ipykernel_45392\\3972728098.py\", line 55, in updater\n",
      "    megaevo.grid(row=-13, column=-1)\n",
      "    ^^^^^^^^^^^^\n",
      "AttributeError: 'NoneType' object has no attribute 'grid'\n"
     ]
    },
    {
     "name": "stdout",
     "output_type": "stream",
     "text": [
      "Updating\n",
      "[570.0, 'ZORUA', 'DARK', 'NA', 40, 65, 40, 80, 40, 65, 330, 'ILLUSION', 'NA', 'NA', 'NA', 'ZORUA']\n"
     ]
    },
    {
     "name": "stderr",
     "output_type": "stream",
     "text": [
      "Exception in Tkinter callback\n",
      "Traceback (most recent call last):\n",
      "  File \"c:\\Users\\Khush Trivedi\\AppData\\Local\\Programs\\Python\\Python311\\Lib\\tkinter\\__init__.py\", line 1948, in __call__\n",
      "    return self.func(*args)\n",
      "           ^^^^^^^^^^^^^^^^\n",
      "  File \"C:\\Users\\Khush Trivedi\\AppData\\Local\\Temp\\ipykernel_45392\\3972728098.py\", line 111, in prev\n",
      "    updater(stats,imgd)\n",
      "  File \"C:\\Users\\Khush Trivedi\\AppData\\Local\\Temp\\ipykernel_45392\\3972728098.py\", line 55, in updater\n",
      "    megaevo.grid(row=-13, column=-1)\n",
      "    ^^^^^^^^^^^^\n",
      "AttributeError: 'NoneType' object has no attribute 'grid'\n"
     ]
    },
    {
     "name": "stdout",
     "output_type": "stream",
     "text": [
      "Updating\n",
      "[569.0, 'GARBODOR', 'POISON', 'NA', 80, 95, 82, 60, 82, 75, 474, 'STENCH', 'WEAK ARMOR', 'AFTERMATH', 'NA', 'GARBODOR']\n"
     ]
    },
    {
     "name": "stderr",
     "output_type": "stream",
     "text": [
      "Exception in Tkinter callback\n",
      "Traceback (most recent call last):\n",
      "  File \"c:\\Users\\Khush Trivedi\\AppData\\Local\\Programs\\Python\\Python311\\Lib\\tkinter\\__init__.py\", line 1948, in __call__\n",
      "    return self.func(*args)\n",
      "           ^^^^^^^^^^^^^^^^\n",
      "  File \"C:\\Users\\Khush Trivedi\\AppData\\Local\\Temp\\ipykernel_45392\\3972728098.py\", line 111, in prev\n",
      "    updater(stats,imgd)\n",
      "  File \"C:\\Users\\Khush Trivedi\\AppData\\Local\\Temp\\ipykernel_45392\\3972728098.py\", line 55, in updater\n",
      "    megaevo.grid(row=-13, column=-1)\n",
      "    ^^^^^^^^^^^^\n",
      "AttributeError: 'NoneType' object has no attribute 'grid'\n"
     ]
    },
    {
     "name": "stdout",
     "output_type": "stream",
     "text": [
      "Updating\n",
      "[568.0, 'TRUBBISH', 'POISON', 'NA', 50, 50, 62, 40, 62, 65, 329, 'STENCH', 'STICKY HOLD', 'AFTERMATH', 'NA', 'TRUBBISH']\n"
     ]
    },
    {
     "name": "stderr",
     "output_type": "stream",
     "text": [
      "Exception in Tkinter callback\n",
      "Traceback (most recent call last):\n",
      "  File \"c:\\Users\\Khush Trivedi\\AppData\\Local\\Programs\\Python\\Python311\\Lib\\tkinter\\__init__.py\", line 1948, in __call__\n",
      "    return self.func(*args)\n",
      "           ^^^^^^^^^^^^^^^^\n",
      "  File \"C:\\Users\\Khush Trivedi\\AppData\\Local\\Temp\\ipykernel_45392\\3972728098.py\", line 111, in prev\n",
      "    updater(stats,imgd)\n",
      "  File \"C:\\Users\\Khush Trivedi\\AppData\\Local\\Temp\\ipykernel_45392\\3972728098.py\", line 55, in updater\n",
      "    megaevo.grid(row=-13, column=-1)\n",
      "    ^^^^^^^^^^^^\n",
      "AttributeError: 'NoneType' object has no attribute 'grid'\n"
     ]
    },
    {
     "name": "stdout",
     "output_type": "stream",
     "text": [
      "Updating\n",
      "[567.0, 'ARCHEOPS', 'ROCK', 'FLYING', 75, 140, 65, 112, 65, 110, 567, 'DEFEATIST', 'NA', 'NA', 'NA', 'ARCHEOPS']\n"
     ]
    },
    {
     "name": "stderr",
     "output_type": "stream",
     "text": [
      "Exception in Tkinter callback\n",
      "Traceback (most recent call last):\n",
      "  File \"c:\\Users\\Khush Trivedi\\AppData\\Local\\Programs\\Python\\Python311\\Lib\\tkinter\\__init__.py\", line 1948, in __call__\n",
      "    return self.func(*args)\n",
      "           ^^^^^^^^^^^^^^^^\n",
      "  File \"C:\\Users\\Khush Trivedi\\AppData\\Local\\Temp\\ipykernel_45392\\3972728098.py\", line 111, in prev\n",
      "    updater(stats,imgd)\n",
      "  File \"C:\\Users\\Khush Trivedi\\AppData\\Local\\Temp\\ipykernel_45392\\3972728098.py\", line 55, in updater\n",
      "    megaevo.grid(row=-13, column=-1)\n",
      "    ^^^^^^^^^^^^\n",
      "AttributeError: 'NoneType' object has no attribute 'grid'\n"
     ]
    },
    {
     "name": "stdout",
     "output_type": "stream",
     "text": [
      "Updating\n",
      "[566.0, 'ARCHEN', 'ROCK', 'FLYING', 55, 112, 45, 74, 45, 70, 401, 'DEFEATIST', 'NA', 'NA', 'NA', 'ARCHEN']\n"
     ]
    },
    {
     "name": "stderr",
     "output_type": "stream",
     "text": [
      "Exception in Tkinter callback\n",
      "Traceback (most recent call last):\n",
      "  File \"c:\\Users\\Khush Trivedi\\AppData\\Local\\Programs\\Python\\Python311\\Lib\\tkinter\\__init__.py\", line 1948, in __call__\n",
      "    return self.func(*args)\n",
      "           ^^^^^^^^^^^^^^^^\n",
      "  File \"C:\\Users\\Khush Trivedi\\AppData\\Local\\Temp\\ipykernel_45392\\3972728098.py\", line 111, in prev\n",
      "    updater(stats,imgd)\n",
      "  File \"C:\\Users\\Khush Trivedi\\AppData\\Local\\Temp\\ipykernel_45392\\3972728098.py\", line 55, in updater\n",
      "    megaevo.grid(row=-13, column=-1)\n",
      "    ^^^^^^^^^^^^\n",
      "AttributeError: 'NoneType' object has no attribute 'grid'\n"
     ]
    },
    {
     "name": "stdout",
     "output_type": "stream",
     "text": [
      "Updating\n",
      "[565.0, 'CARRACOSTA', 'WATER', 'ROCK', 74, 108, 133, 83, 65, 32, 495, 'SOLID ROCK', 'STURDY', 'SWIFT SWIM', 'NA', 'CARRACOSTA']\n"
     ]
    },
    {
     "name": "stderr",
     "output_type": "stream",
     "text": [
      "Exception in Tkinter callback\n",
      "Traceback (most recent call last):\n",
      "  File \"c:\\Users\\Khush Trivedi\\AppData\\Local\\Programs\\Python\\Python311\\Lib\\tkinter\\__init__.py\", line 1948, in __call__\n",
      "    return self.func(*args)\n",
      "           ^^^^^^^^^^^^^^^^\n",
      "  File \"C:\\Users\\Khush Trivedi\\AppData\\Local\\Temp\\ipykernel_45392\\3972728098.py\", line 111, in prev\n",
      "    updater(stats,imgd)\n",
      "  File \"C:\\Users\\Khush Trivedi\\AppData\\Local\\Temp\\ipykernel_45392\\3972728098.py\", line 55, in updater\n",
      "    megaevo.grid(row=-13, column=-1)\n",
      "    ^^^^^^^^^^^^\n",
      "AttributeError: 'NoneType' object has no attribute 'grid'\n"
     ]
    },
    {
     "name": "stdout",
     "output_type": "stream",
     "text": [
      "Updating\n",
      "[564.0, 'TIRTOUGA', 'WATER', 'ROCK', 54, 78, 103, 53, 45, 22, 355, 'SOLID ROCK', 'STURDY', 'SWIFT SWIM', 'NA', 'TIRTOUGA']\n"
     ]
    },
    {
     "name": "stderr",
     "output_type": "stream",
     "text": [
      "Exception in Tkinter callback\n",
      "Traceback (most recent call last):\n",
      "  File \"c:\\Users\\Khush Trivedi\\AppData\\Local\\Programs\\Python\\Python311\\Lib\\tkinter\\__init__.py\", line 1948, in __call__\n",
      "    return self.func(*args)\n",
      "           ^^^^^^^^^^^^^^^^\n",
      "  File \"C:\\Users\\Khush Trivedi\\AppData\\Local\\Temp\\ipykernel_45392\\3972728098.py\", line 111, in prev\n",
      "    updater(stats,imgd)\n",
      "  File \"C:\\Users\\Khush Trivedi\\AppData\\Local\\Temp\\ipykernel_45392\\3972728098.py\", line 55, in updater\n",
      "    megaevo.grid(row=-13, column=-1)\n",
      "    ^^^^^^^^^^^^\n",
      "AttributeError: 'NoneType' object has no attribute 'grid'\n"
     ]
    },
    {
     "name": "stdout",
     "output_type": "stream",
     "text": [
      "Updating\n",
      "[563.0, 'COFAGRIGUS', 'GHOST', 'NA', 58, 50, 145, 95, 105, 30, 483, 'MUMMY', 'NA', 'NA', 'NA', 'COFAGRIGUS']\n"
     ]
    },
    {
     "name": "stderr",
     "output_type": "stream",
     "text": [
      "Exception in Tkinter callback\n",
      "Traceback (most recent call last):\n",
      "  File \"c:\\Users\\Khush Trivedi\\AppData\\Local\\Programs\\Python\\Python311\\Lib\\tkinter\\__init__.py\", line 1948, in __call__\n",
      "    return self.func(*args)\n",
      "           ^^^^^^^^^^^^^^^^\n",
      "  File \"C:\\Users\\Khush Trivedi\\AppData\\Local\\Temp\\ipykernel_45392\\3972728098.py\", line 111, in prev\n",
      "    updater(stats,imgd)\n",
      "  File \"C:\\Users\\Khush Trivedi\\AppData\\Local\\Temp\\ipykernel_45392\\3972728098.py\", line 55, in updater\n",
      "    megaevo.grid(row=-13, column=-1)\n",
      "    ^^^^^^^^^^^^\n",
      "AttributeError: 'NoneType' object has no attribute 'grid'\n"
     ]
    },
    {
     "name": "stdout",
     "output_type": "stream",
     "text": [
      "Updating\n",
      "[562.0, 'YAMASK', 'GHOST', 'NA', 38, 30, 85, 55, 65, 30, 303, 'MUMMY', 'NA', 'NA', 'NA', 'YAMASK']\n"
     ]
    },
    {
     "name": "stderr",
     "output_type": "stream",
     "text": [
      "Exception in Tkinter callback\n",
      "Traceback (most recent call last):\n",
      "  File \"c:\\Users\\Khush Trivedi\\AppData\\Local\\Programs\\Python\\Python311\\Lib\\tkinter\\__init__.py\", line 1948, in __call__\n",
      "    return self.func(*args)\n",
      "           ^^^^^^^^^^^^^^^^\n",
      "  File \"C:\\Users\\Khush Trivedi\\AppData\\Local\\Temp\\ipykernel_45392\\3972728098.py\", line 111, in prev\n",
      "    updater(stats,imgd)\n",
      "  File \"C:\\Users\\Khush Trivedi\\AppData\\Local\\Temp\\ipykernel_45392\\3972728098.py\", line 55, in updater\n",
      "    megaevo.grid(row=-13, column=-1)\n",
      "    ^^^^^^^^^^^^\n",
      "AttributeError: 'NoneType' object has no attribute 'grid'\n"
     ]
    },
    {
     "name": "stdout",
     "output_type": "stream",
     "text": [
      "Updating\n",
      "[561.0, 'SIGILYPH', 'PSYCHIC', 'FLYING', 72, 58, 80, 103, 80, 97, 490, 'WONDER SKIN', 'MAGIC GUARD', 'TINTED LENS', 'NA', 'SIGILYPH']\n"
     ]
    },
    {
     "name": "stderr",
     "output_type": "stream",
     "text": [
      "Exception in Tkinter callback\n",
      "Traceback (most recent call last):\n",
      "  File \"c:\\Users\\Khush Trivedi\\AppData\\Local\\Programs\\Python\\Python311\\Lib\\tkinter\\__init__.py\", line 1948, in __call__\n",
      "    return self.func(*args)\n",
      "           ^^^^^^^^^^^^^^^^\n",
      "  File \"C:\\Users\\Khush Trivedi\\AppData\\Local\\Temp\\ipykernel_45392\\3972728098.py\", line 111, in prev\n",
      "    updater(stats,imgd)\n",
      "  File \"C:\\Users\\Khush Trivedi\\AppData\\Local\\Temp\\ipykernel_45392\\3972728098.py\", line 55, in updater\n",
      "    megaevo.grid(row=-13, column=-1)\n",
      "    ^^^^^^^^^^^^\n",
      "AttributeError: 'NoneType' object has no attribute 'grid'\n"
     ]
    },
    {
     "name": "stdout",
     "output_type": "stream",
     "text": [
      "Updating\n",
      "[560.0, 'SCRAFTY', 'DARK', 'FIGHTING', 65, 90, 115, 45, 115, 58, 488, 'SHED SKIN', 'MOXIE', 'INTIMIDATE', 'NA', 'SCRAFTY']\n"
     ]
    },
    {
     "name": "stderr",
     "output_type": "stream",
     "text": [
      "Exception in Tkinter callback\n",
      "Traceback (most recent call last):\n",
      "  File \"c:\\Users\\Khush Trivedi\\AppData\\Local\\Programs\\Python\\Python311\\Lib\\tkinter\\__init__.py\", line 1948, in __call__\n",
      "    return self.func(*args)\n",
      "           ^^^^^^^^^^^^^^^^\n",
      "  File \"C:\\Users\\Khush Trivedi\\AppData\\Local\\Temp\\ipykernel_45392\\3972728098.py\", line 111, in prev\n",
      "    updater(stats,imgd)\n",
      "  File \"C:\\Users\\Khush Trivedi\\AppData\\Local\\Temp\\ipykernel_45392\\3972728098.py\", line 55, in updater\n",
      "    megaevo.grid(row=-13, column=-1)\n",
      "    ^^^^^^^^^^^^\n",
      "AttributeError: 'NoneType' object has no attribute 'grid'\n"
     ]
    },
    {
     "name": "stdout",
     "output_type": "stream",
     "text": [
      "Updating\n",
      "[559.0, 'SCRAGGY', 'DARK', 'FIGHTING', 50, 75, 70, 35, 70, 48, 348, 'SHED SKIN', 'MOXIE', 'INTIMIDATE', 'NA', 'SCRAGGY']\n"
     ]
    },
    {
     "name": "stderr",
     "output_type": "stream",
     "text": [
      "Exception in Tkinter callback\n",
      "Traceback (most recent call last):\n",
      "  File \"c:\\Users\\Khush Trivedi\\AppData\\Local\\Programs\\Python\\Python311\\Lib\\tkinter\\__init__.py\", line 1948, in __call__\n",
      "    return self.func(*args)\n",
      "           ^^^^^^^^^^^^^^^^\n",
      "  File \"C:\\Users\\Khush Trivedi\\AppData\\Local\\Temp\\ipykernel_45392\\3972728098.py\", line 111, in prev\n",
      "    updater(stats,imgd)\n",
      "  File \"C:\\Users\\Khush Trivedi\\AppData\\Local\\Temp\\ipykernel_45392\\3972728098.py\", line 55, in updater\n",
      "    megaevo.grid(row=-13, column=-1)\n",
      "    ^^^^^^^^^^^^\n",
      "AttributeError: 'NoneType' object has no attribute 'grid'\n"
     ]
    },
    {
     "name": "stdout",
     "output_type": "stream",
     "text": [
      "Updating\n",
      "[558.0, 'CRUSTLE', 'BUG', 'ROCK', 70, 105, 125, 65, 75, 45, 485, 'STURDY', 'SHELL ARMOR', 'WEAK ARMOR', 'NA', 'CRUSTLE']\n"
     ]
    },
    {
     "name": "stderr",
     "output_type": "stream",
     "text": [
      "Exception in Tkinter callback\n",
      "Traceback (most recent call last):\n",
      "  File \"c:\\Users\\Khush Trivedi\\AppData\\Local\\Programs\\Python\\Python311\\Lib\\tkinter\\__init__.py\", line 1948, in __call__\n",
      "    return self.func(*args)\n",
      "           ^^^^^^^^^^^^^^^^\n",
      "  File \"C:\\Users\\Khush Trivedi\\AppData\\Local\\Temp\\ipykernel_45392\\3972728098.py\", line 111, in prev\n",
      "    updater(stats,imgd)\n",
      "  File \"C:\\Users\\Khush Trivedi\\AppData\\Local\\Temp\\ipykernel_45392\\3972728098.py\", line 55, in updater\n",
      "    megaevo.grid(row=-13, column=-1)\n",
      "    ^^^^^^^^^^^^\n",
      "AttributeError: 'NoneType' object has no attribute 'grid'\n"
     ]
    },
    {
     "name": "stdout",
     "output_type": "stream",
     "text": [
      "Updating\n",
      "[557.0, 'DWEBBLE', 'BUG', 'ROCK', 50, 65, 85, 35, 35, 55, 325, 'STURDY', 'SHELL ARMOR', 'WEAK ARMOR', 'NA', 'DWEBBLE']\n"
     ]
    },
    {
     "name": "stderr",
     "output_type": "stream",
     "text": [
      "Exception in Tkinter callback\n",
      "Traceback (most recent call last):\n",
      "  File \"c:\\Users\\Khush Trivedi\\AppData\\Local\\Programs\\Python\\Python311\\Lib\\tkinter\\__init__.py\", line 1948, in __call__\n",
      "    return self.func(*args)\n",
      "           ^^^^^^^^^^^^^^^^\n",
      "  File \"C:\\Users\\Khush Trivedi\\AppData\\Local\\Temp\\ipykernel_45392\\3972728098.py\", line 111, in prev\n",
      "    updater(stats,imgd)\n",
      "  File \"C:\\Users\\Khush Trivedi\\AppData\\Local\\Temp\\ipykernel_45392\\3972728098.py\", line 55, in updater\n",
      "    megaevo.grid(row=-13, column=-1)\n",
      "    ^^^^^^^^^^^^\n",
      "AttributeError: 'NoneType' object has no attribute 'grid'\n"
     ]
    },
    {
     "name": "stdout",
     "output_type": "stream",
     "text": [
      "Updating\n",
      "[556.0, 'MARACTUS', 'GRASS', 'NA', 75, 86, 67, 106, 67, 60, 461, 'WATER ABSORB', 'CHLOROPHYLL', 'STORM DRAIN', 'NA', 'MARACTUS']\n"
     ]
    },
    {
     "name": "stderr",
     "output_type": "stream",
     "text": [
      "Exception in Tkinter callback\n",
      "Traceback (most recent call last):\n",
      "  File \"c:\\Users\\Khush Trivedi\\AppData\\Local\\Programs\\Python\\Python311\\Lib\\tkinter\\__init__.py\", line 1948, in __call__\n",
      "    return self.func(*args)\n",
      "           ^^^^^^^^^^^^^^^^\n",
      "  File \"C:\\Users\\Khush Trivedi\\AppData\\Local\\Temp\\ipykernel_45392\\3972728098.py\", line 111, in prev\n",
      "    updater(stats,imgd)\n",
      "  File \"C:\\Users\\Khush Trivedi\\AppData\\Local\\Temp\\ipykernel_45392\\3972728098.py\", line 55, in updater\n",
      "    megaevo.grid(row=-13, column=-1)\n",
      "    ^^^^^^^^^^^^\n",
      "AttributeError: 'NoneType' object has no attribute 'grid'\n"
     ]
    },
    {
     "name": "stdout",
     "output_type": "stream",
     "text": [
      "Updating\n",
      "[555.0, 'DARMANITAN', 'FIRE', 'NA', 105, 140, 55, 30, 55, 95, 480, 'SHEER FORCE', 'NA', 'ZEN MODE', 'NA', 'DARMANITAN']\n"
     ]
    },
    {
     "name": "stderr",
     "output_type": "stream",
     "text": [
      "Exception in Tkinter callback\n",
      "Traceback (most recent call last):\n",
      "  File \"c:\\Users\\Khush Trivedi\\AppData\\Local\\Programs\\Python\\Python311\\Lib\\tkinter\\__init__.py\", line 1948, in __call__\n",
      "    return self.func(*args)\n",
      "           ^^^^^^^^^^^^^^^^\n",
      "  File \"C:\\Users\\Khush Trivedi\\AppData\\Local\\Temp\\ipykernel_45392\\3972728098.py\", line 111, in prev\n",
      "    updater(stats,imgd)\n",
      "  File \"C:\\Users\\Khush Trivedi\\AppData\\Local\\Temp\\ipykernel_45392\\3972728098.py\", line 55, in updater\n",
      "    megaevo.grid(row=-13, column=-1)\n",
      "    ^^^^^^^^^^^^\n",
      "AttributeError: 'NoneType' object has no attribute 'grid'\n"
     ]
    },
    {
     "name": "stdout",
     "output_type": "stream",
     "text": [
      "Updating\n",
      "[554.0, 'DARUMAKA', 'FIRE', 'NA', 70, 90, 45, 15, 45, 50, 315, 'HUSTLE', 'NA', 'INNER FOCUS', 'NA', 'DARUMAKA']\n"
     ]
    },
    {
     "name": "stderr",
     "output_type": "stream",
     "text": [
      "Exception in Tkinter callback\n",
      "Traceback (most recent call last):\n",
      "  File \"c:\\Users\\Khush Trivedi\\AppData\\Local\\Programs\\Python\\Python311\\Lib\\tkinter\\__init__.py\", line 1948, in __call__\n",
      "    return self.func(*args)\n",
      "           ^^^^^^^^^^^^^^^^\n",
      "  File \"C:\\Users\\Khush Trivedi\\AppData\\Local\\Temp\\ipykernel_45392\\3972728098.py\", line 111, in prev\n",
      "    updater(stats,imgd)\n",
      "  File \"C:\\Users\\Khush Trivedi\\AppData\\Local\\Temp\\ipykernel_45392\\3972728098.py\", line 55, in updater\n",
      "    megaevo.grid(row=-13, column=-1)\n",
      "    ^^^^^^^^^^^^\n",
      "AttributeError: 'NoneType' object has no attribute 'grid'\n"
     ]
    },
    {
     "name": "stdout",
     "output_type": "stream",
     "text": [
      "Updating\n",
      "[553.0, 'KROOKODILE', 'GROUND', 'DARK', 95, 117, 80, 65, 70, 92, 519, 'INTIMIDATE', 'MOXIE', 'ANGER POINT', 'NA', 'KROOKODILE']\n"
     ]
    },
    {
     "name": "stderr",
     "output_type": "stream",
     "text": [
      "Exception in Tkinter callback\n",
      "Traceback (most recent call last):\n",
      "  File \"c:\\Users\\Khush Trivedi\\AppData\\Local\\Programs\\Python\\Python311\\Lib\\tkinter\\__init__.py\", line 1948, in __call__\n",
      "    return self.func(*args)\n",
      "           ^^^^^^^^^^^^^^^^\n",
      "  File \"C:\\Users\\Khush Trivedi\\AppData\\Local\\Temp\\ipykernel_45392\\3972728098.py\", line 111, in prev\n",
      "    updater(stats,imgd)\n",
      "  File \"C:\\Users\\Khush Trivedi\\AppData\\Local\\Temp\\ipykernel_45392\\3972728098.py\", line 55, in updater\n",
      "    megaevo.grid(row=-13, column=-1)\n",
      "    ^^^^^^^^^^^^\n",
      "AttributeError: 'NoneType' object has no attribute 'grid'\n"
     ]
    },
    {
     "name": "stdout",
     "output_type": "stream",
     "text": [
      "Updating\n",
      "[552.0, 'KROKOROK', 'GROUND', 'DARK', 60, 82, 45, 45, 45, 74, 351, 'INTIMIDATE', 'MOXIE', 'ANGER POINT', 'NA', 'KROKOROK']\n"
     ]
    },
    {
     "name": "stderr",
     "output_type": "stream",
     "text": [
      "Exception in Tkinter callback\n",
      "Traceback (most recent call last):\n",
      "  File \"c:\\Users\\Khush Trivedi\\AppData\\Local\\Programs\\Python\\Python311\\Lib\\tkinter\\__init__.py\", line 1948, in __call__\n",
      "    return self.func(*args)\n",
      "           ^^^^^^^^^^^^^^^^\n",
      "  File \"C:\\Users\\Khush Trivedi\\AppData\\Local\\Temp\\ipykernel_45392\\3972728098.py\", line 111, in prev\n",
      "    updater(stats,imgd)\n",
      "  File \"C:\\Users\\Khush Trivedi\\AppData\\Local\\Temp\\ipykernel_45392\\3972728098.py\", line 55, in updater\n",
      "    megaevo.grid(row=-13, column=-1)\n",
      "    ^^^^^^^^^^^^\n",
      "AttributeError: 'NoneType' object has no attribute 'grid'\n"
     ]
    },
    {
     "name": "stdout",
     "output_type": "stream",
     "text": [
      "Updating\n",
      "[551.0, 'SANDILE', 'GROUND', 'DARK', 50, 72, 35, 35, 35, 65, 292, 'INTIMIDATE', 'MOXIE', 'ANGER POINT', 'NA', 'SANDILE']\n"
     ]
    },
    {
     "name": "stderr",
     "output_type": "stream",
     "text": [
      "Exception in Tkinter callback\n",
      "Traceback (most recent call last):\n",
      "  File \"c:\\Users\\Khush Trivedi\\AppData\\Local\\Programs\\Python\\Python311\\Lib\\tkinter\\__init__.py\", line 1948, in __call__\n",
      "    return self.func(*args)\n",
      "           ^^^^^^^^^^^^^^^^\n",
      "  File \"C:\\Users\\Khush Trivedi\\AppData\\Local\\Temp\\ipykernel_45392\\3972728098.py\", line 111, in prev\n",
      "    updater(stats,imgd)\n",
      "  File \"C:\\Users\\Khush Trivedi\\AppData\\Local\\Temp\\ipykernel_45392\\3972728098.py\", line 55, in updater\n",
      "    megaevo.grid(row=-13, column=-1)\n",
      "    ^^^^^^^^^^^^\n",
      "AttributeError: 'NoneType' object has no attribute 'grid'\n"
     ]
    },
    {
     "name": "stdout",
     "output_type": "stream",
     "text": [
      "Updating\n",
      "[550.0, 'BASCULIN', 'WATER', 'NA', 70, 92, 65, 80, 55, 98, 460, 'RECKLESS', 'ADAPTABILITY', 'MOLD BREAKER', 'NA', 'BASCULIN']\n"
     ]
    },
    {
     "name": "stderr",
     "output_type": "stream",
     "text": [
      "Exception in Tkinter callback\n",
      "Traceback (most recent call last):\n",
      "  File \"c:\\Users\\Khush Trivedi\\AppData\\Local\\Programs\\Python\\Python311\\Lib\\tkinter\\__init__.py\", line 1948, in __call__\n",
      "    return self.func(*args)\n",
      "           ^^^^^^^^^^^^^^^^\n",
      "  File \"C:\\Users\\Khush Trivedi\\AppData\\Local\\Temp\\ipykernel_45392\\3972728098.py\", line 111, in prev\n",
      "    updater(stats,imgd)\n",
      "  File \"C:\\Users\\Khush Trivedi\\AppData\\Local\\Temp\\ipykernel_45392\\3972728098.py\", line 55, in updater\n",
      "    megaevo.grid(row=-13, column=-1)\n",
      "    ^^^^^^^^^^^^\n",
      "AttributeError: 'NoneType' object has no attribute 'grid'\n"
     ]
    },
    {
     "name": "stdout",
     "output_type": "stream",
     "text": [
      "Updating\n",
      "[549.0, 'LILLIGANT', 'GRASS', 'NA', 70, 60, 75, 110, 75, 90, 480, 'CHLOROPHYLL', 'OWN TEMPO', 'LEAF GUARD', 'NA', 'LILLIGANT']\n"
     ]
    },
    {
     "name": "stderr",
     "output_type": "stream",
     "text": [
      "Exception in Tkinter callback\n",
      "Traceback (most recent call last):\n",
      "  File \"c:\\Users\\Khush Trivedi\\AppData\\Local\\Programs\\Python\\Python311\\Lib\\tkinter\\__init__.py\", line 1948, in __call__\n",
      "    return self.func(*args)\n",
      "           ^^^^^^^^^^^^^^^^\n",
      "  File \"C:\\Users\\Khush Trivedi\\AppData\\Local\\Temp\\ipykernel_45392\\3972728098.py\", line 111, in prev\n",
      "    updater(stats,imgd)\n",
      "  File \"C:\\Users\\Khush Trivedi\\AppData\\Local\\Temp\\ipykernel_45392\\3972728098.py\", line 55, in updater\n",
      "    megaevo.grid(row=-13, column=-1)\n",
      "    ^^^^^^^^^^^^\n",
      "AttributeError: 'NoneType' object has no attribute 'grid'\n"
     ]
    },
    {
     "name": "stdout",
     "output_type": "stream",
     "text": [
      "Updating\n",
      "[548.0, 'PETILIL', 'GRASS', 'NA', 45, 35, 50, 70, 50, 30, 280, 'CHLOROPHYLL', 'OWN TEMPO', 'LEAF GUARD', 'NA', 'PETILIL']\n"
     ]
    },
    {
     "name": "stderr",
     "output_type": "stream",
     "text": [
      "Exception in Tkinter callback\n",
      "Traceback (most recent call last):\n",
      "  File \"c:\\Users\\Khush Trivedi\\AppData\\Local\\Programs\\Python\\Python311\\Lib\\tkinter\\__init__.py\", line 1948, in __call__\n",
      "    return self.func(*args)\n",
      "           ^^^^^^^^^^^^^^^^\n",
      "  File \"C:\\Users\\Khush Trivedi\\AppData\\Local\\Temp\\ipykernel_45392\\3972728098.py\", line 111, in prev\n",
      "    updater(stats,imgd)\n",
      "  File \"C:\\Users\\Khush Trivedi\\AppData\\Local\\Temp\\ipykernel_45392\\3972728098.py\", line 55, in updater\n",
      "    megaevo.grid(row=-13, column=-1)\n",
      "    ^^^^^^^^^^^^\n",
      "AttributeError: 'NoneType' object has no attribute 'grid'\n"
     ]
    },
    {
     "name": "stdout",
     "output_type": "stream",
     "text": [
      "Updating\n",
      "[547.0, 'WHIMSICOTT', 'GRASS', 'FAIRY', 60, 67, 85, 77, 75, 116, 480, 'PRANKSTER', 'INFILTRATOR', 'CHLOROPHYLL', 'NA', 'WHIMSICOTT']\n"
     ]
    },
    {
     "name": "stderr",
     "output_type": "stream",
     "text": [
      "Exception in Tkinter callback\n",
      "Traceback (most recent call last):\n",
      "  File \"c:\\Users\\Khush Trivedi\\AppData\\Local\\Programs\\Python\\Python311\\Lib\\tkinter\\__init__.py\", line 1948, in __call__\n",
      "    return self.func(*args)\n",
      "           ^^^^^^^^^^^^^^^^\n",
      "  File \"C:\\Users\\Khush Trivedi\\AppData\\Local\\Temp\\ipykernel_45392\\3972728098.py\", line 111, in prev\n",
      "    updater(stats,imgd)\n",
      "  File \"C:\\Users\\Khush Trivedi\\AppData\\Local\\Temp\\ipykernel_45392\\3972728098.py\", line 55, in updater\n",
      "    megaevo.grid(row=-13, column=-1)\n",
      "    ^^^^^^^^^^^^\n",
      "AttributeError: 'NoneType' object has no attribute 'grid'\n"
     ]
    },
    {
     "name": "stdout",
     "output_type": "stream",
     "text": [
      "Updating\n",
      "[546.0, 'COTTONEE', 'GRASS', 'FAIRY', 40, 27, 60, 37, 50, 66, 280, 'PRANKSTER', 'INFILTRATOR', 'CHLOROPHYLL', 'NA', 'COTTONEE']\n"
     ]
    },
    {
     "name": "stderr",
     "output_type": "stream",
     "text": [
      "Exception in Tkinter callback\n",
      "Traceback (most recent call last):\n",
      "  File \"c:\\Users\\Khush Trivedi\\AppData\\Local\\Programs\\Python\\Python311\\Lib\\tkinter\\__init__.py\", line 1948, in __call__\n",
      "    return self.func(*args)\n",
      "           ^^^^^^^^^^^^^^^^\n",
      "  File \"C:\\Users\\Khush Trivedi\\AppData\\Local\\Temp\\ipykernel_45392\\3972728098.py\", line 111, in prev\n",
      "    updater(stats,imgd)\n",
      "  File \"C:\\Users\\Khush Trivedi\\AppData\\Local\\Temp\\ipykernel_45392\\3972728098.py\", line 55, in updater\n",
      "    megaevo.grid(row=-13, column=-1)\n",
      "    ^^^^^^^^^^^^\n",
      "AttributeError: 'NoneType' object has no attribute 'grid'\n"
     ]
    },
    {
     "name": "stdout",
     "output_type": "stream",
     "text": [
      "Updating\n",
      "[545.0, 'SCOLIPEDE', 'BUG', 'POISON', 60, 100, 89, 55, 69, 112, 485, 'POISON POINT', 'SWARM', 'SPEED BOOST', 'NA', 'SCOLIPEDE']\n"
     ]
    },
    {
     "name": "stderr",
     "output_type": "stream",
     "text": [
      "Exception in Tkinter callback\n",
      "Traceback (most recent call last):\n",
      "  File \"c:\\Users\\Khush Trivedi\\AppData\\Local\\Programs\\Python\\Python311\\Lib\\tkinter\\__init__.py\", line 1948, in __call__\n",
      "    return self.func(*args)\n",
      "           ^^^^^^^^^^^^^^^^\n",
      "  File \"C:\\Users\\Khush Trivedi\\AppData\\Local\\Temp\\ipykernel_45392\\3972728098.py\", line 111, in prev\n",
      "    updater(stats,imgd)\n",
      "  File \"C:\\Users\\Khush Trivedi\\AppData\\Local\\Temp\\ipykernel_45392\\3972728098.py\", line 55, in updater\n",
      "    megaevo.grid(row=-13, column=-1)\n",
      "    ^^^^^^^^^^^^\n",
      "AttributeError: 'NoneType' object has no attribute 'grid'\n"
     ]
    },
    {
     "name": "stdout",
     "output_type": "stream",
     "text": [
      "Updating\n",
      "[544.0, 'WHIRLIPEDE', 'BUG', 'POISON', 40, 55, 99, 40, 79, 47, 360, 'POISON POINT', 'SWARM', 'SPEED BOOST', 'NA', 'WHIRLIPEDE']\n"
     ]
    },
    {
     "name": "stderr",
     "output_type": "stream",
     "text": [
      "Exception in Tkinter callback\n",
      "Traceback (most recent call last):\n",
      "  File \"c:\\Users\\Khush Trivedi\\AppData\\Local\\Programs\\Python\\Python311\\Lib\\tkinter\\__init__.py\", line 1948, in __call__\n",
      "    return self.func(*args)\n",
      "           ^^^^^^^^^^^^^^^^\n",
      "  File \"C:\\Users\\Khush Trivedi\\AppData\\Local\\Temp\\ipykernel_45392\\3972728098.py\", line 111, in prev\n",
      "    updater(stats,imgd)\n",
      "  File \"C:\\Users\\Khush Trivedi\\AppData\\Local\\Temp\\ipykernel_45392\\3972728098.py\", line 55, in updater\n",
      "    megaevo.grid(row=-13, column=-1)\n",
      "    ^^^^^^^^^^^^\n",
      "AttributeError: 'NoneType' object has no attribute 'grid'\n"
     ]
    },
    {
     "name": "stdout",
     "output_type": "stream",
     "text": [
      "Updating\n",
      "[543.0, 'VENIPEDE', 'BUG', 'POISON', 30, 45, 59, 30, 39, 57, 260, 'POISON POINT', 'SWARM', 'SPEED BOOST', 'NA', 'VENIPEDE']\n"
     ]
    },
    {
     "name": "stderr",
     "output_type": "stream",
     "text": [
      "Exception in Tkinter callback\n",
      "Traceback (most recent call last):\n",
      "  File \"c:\\Users\\Khush Trivedi\\AppData\\Local\\Programs\\Python\\Python311\\Lib\\tkinter\\__init__.py\", line 1948, in __call__\n",
      "    return self.func(*args)\n",
      "           ^^^^^^^^^^^^^^^^\n",
      "  File \"C:\\Users\\Khush Trivedi\\AppData\\Local\\Temp\\ipykernel_45392\\3972728098.py\", line 111, in prev\n",
      "    updater(stats,imgd)\n",
      "  File \"C:\\Users\\Khush Trivedi\\AppData\\Local\\Temp\\ipykernel_45392\\3972728098.py\", line 55, in updater\n",
      "    megaevo.grid(row=-13, column=-1)\n",
      "    ^^^^^^^^^^^^\n",
      "AttributeError: 'NoneType' object has no attribute 'grid'\n"
     ]
    },
    {
     "name": "stdout",
     "output_type": "stream",
     "text": [
      "Updating\n",
      "[542.0, 'LEAVANNY', 'BUG', 'GRASS', 75, 103, 80, 70, 80, 92, 500, 'SWARM', 'CHLOROPHYLL', 'OVERCOAT', 'NA', 'LEAVANNY']\n"
     ]
    },
    {
     "name": "stderr",
     "output_type": "stream",
     "text": [
      "Exception in Tkinter callback\n",
      "Traceback (most recent call last):\n",
      "  File \"c:\\Users\\Khush Trivedi\\AppData\\Local\\Programs\\Python\\Python311\\Lib\\tkinter\\__init__.py\", line 1948, in __call__\n",
      "    return self.func(*args)\n",
      "           ^^^^^^^^^^^^^^^^\n",
      "  File \"C:\\Users\\Khush Trivedi\\AppData\\Local\\Temp\\ipykernel_45392\\3972728098.py\", line 111, in prev\n",
      "    updater(stats,imgd)\n",
      "  File \"C:\\Users\\Khush Trivedi\\AppData\\Local\\Temp\\ipykernel_45392\\3972728098.py\", line 55, in updater\n",
      "    megaevo.grid(row=-13, column=-1)\n",
      "    ^^^^^^^^^^^^\n",
      "AttributeError: 'NoneType' object has no attribute 'grid'\n"
     ]
    },
    {
     "name": "stdout",
     "output_type": "stream",
     "text": [
      "Updating\n",
      "[541.0, 'SWADLOON', 'BUG', 'GRASS', 55, 63, 90, 50, 80, 42, 380, 'LEAF GUARD', 'CHLOROPHYLL', 'OVERCOAT', 'NA', 'SWADLOON']\n"
     ]
    },
    {
     "name": "stderr",
     "output_type": "stream",
     "text": [
      "Exception in Tkinter callback\n",
      "Traceback (most recent call last):\n",
      "  File \"c:\\Users\\Khush Trivedi\\AppData\\Local\\Programs\\Python\\Python311\\Lib\\tkinter\\__init__.py\", line 1948, in __call__\n",
      "    return self.func(*args)\n",
      "           ^^^^^^^^^^^^^^^^\n",
      "  File \"C:\\Users\\Khush Trivedi\\AppData\\Local\\Temp\\ipykernel_45392\\3972728098.py\", line 111, in prev\n",
      "    updater(stats,imgd)\n",
      "  File \"C:\\Users\\Khush Trivedi\\AppData\\Local\\Temp\\ipykernel_45392\\3972728098.py\", line 55, in updater\n",
      "    megaevo.grid(row=-13, column=-1)\n",
      "    ^^^^^^^^^^^^\n",
      "AttributeError: 'NoneType' object has no attribute 'grid'\n"
     ]
    },
    {
     "name": "stdout",
     "output_type": "stream",
     "text": [
      "Updating\n",
      "[540.0, 'SEWADDLE', 'BUG', 'GRASS', 45, 53, 70, 40, 60, 42, 310, 'SWARM', 'CHLOROPHYLL', 'OVERCOAT', 'NA', 'SEWADDLE']\n"
     ]
    },
    {
     "name": "stderr",
     "output_type": "stream",
     "text": [
      "Exception in Tkinter callback\n",
      "Traceback (most recent call last):\n",
      "  File \"c:\\Users\\Khush Trivedi\\AppData\\Local\\Programs\\Python\\Python311\\Lib\\tkinter\\__init__.py\", line 1948, in __call__\n",
      "    return self.func(*args)\n",
      "           ^^^^^^^^^^^^^^^^\n",
      "  File \"C:\\Users\\Khush Trivedi\\AppData\\Local\\Temp\\ipykernel_45392\\3972728098.py\", line 111, in prev\n",
      "    updater(stats,imgd)\n",
      "  File \"C:\\Users\\Khush Trivedi\\AppData\\Local\\Temp\\ipykernel_45392\\3972728098.py\", line 55, in updater\n",
      "    megaevo.grid(row=-13, column=-1)\n",
      "    ^^^^^^^^^^^^\n",
      "AttributeError: 'NoneType' object has no attribute 'grid'\n"
     ]
    },
    {
     "name": "stdout",
     "output_type": "stream",
     "text": [
      "Updating\n",
      "[539.0, 'SAWK', 'FIGHTING', 'NA', 75, 125, 75, 30, 75, 85, 465, 'STURDY', 'INNER FOCUS', 'MOLD BREAKER', 'NA', 'SAWK']\n"
     ]
    },
    {
     "name": "stderr",
     "output_type": "stream",
     "text": [
      "Exception in Tkinter callback\n",
      "Traceback (most recent call last):\n",
      "  File \"c:\\Users\\Khush Trivedi\\AppData\\Local\\Programs\\Python\\Python311\\Lib\\tkinter\\__init__.py\", line 1948, in __call__\n",
      "    return self.func(*args)\n",
      "           ^^^^^^^^^^^^^^^^\n",
      "  File \"C:\\Users\\Khush Trivedi\\AppData\\Local\\Temp\\ipykernel_45392\\3972728098.py\", line 111, in prev\n",
      "    updater(stats,imgd)\n",
      "  File \"C:\\Users\\Khush Trivedi\\AppData\\Local\\Temp\\ipykernel_45392\\3972728098.py\", line 55, in updater\n",
      "    megaevo.grid(row=-13, column=-1)\n",
      "    ^^^^^^^^^^^^\n",
      "AttributeError: 'NoneType' object has no attribute 'grid'\n"
     ]
    },
    {
     "name": "stdout",
     "output_type": "stream",
     "text": [
      "Updating\n",
      "[538.0, 'THROH', 'FIGHTING', 'NA', 120, 100, 85, 30, 85, 45, 465, 'GUTS', 'INNER FOCUS', 'MOLD BREAKER', 'NA', 'THROH']\n"
     ]
    },
    {
     "name": "stderr",
     "output_type": "stream",
     "text": [
      "Exception in Tkinter callback\n",
      "Traceback (most recent call last):\n",
      "  File \"c:\\Users\\Khush Trivedi\\AppData\\Local\\Programs\\Python\\Python311\\Lib\\tkinter\\__init__.py\", line 1948, in __call__\n",
      "    return self.func(*args)\n",
      "           ^^^^^^^^^^^^^^^^\n",
      "  File \"C:\\Users\\Khush Trivedi\\AppData\\Local\\Temp\\ipykernel_45392\\3972728098.py\", line 111, in prev\n",
      "    updater(stats,imgd)\n",
      "  File \"C:\\Users\\Khush Trivedi\\AppData\\Local\\Temp\\ipykernel_45392\\3972728098.py\", line 55, in updater\n",
      "    megaevo.grid(row=-13, column=-1)\n",
      "    ^^^^^^^^^^^^\n",
      "AttributeError: 'NoneType' object has no attribute 'grid'\n"
     ]
    },
    {
     "name": "stdout",
     "output_type": "stream",
     "text": [
      "Updating\n",
      "[537.0, 'SEISMITOAD', 'WATER', 'GROUND', 105, 95, 75, 85, 75, 74, 509, 'SWIFT SWIM', 'POISON TOUCH', 'WATER ABSORB', 'NA', 'SEISMITOAD']\n"
     ]
    },
    {
     "name": "stderr",
     "output_type": "stream",
     "text": [
      "Exception in Tkinter callback\n",
      "Traceback (most recent call last):\n",
      "  File \"c:\\Users\\Khush Trivedi\\AppData\\Local\\Programs\\Python\\Python311\\Lib\\tkinter\\__init__.py\", line 1948, in __call__\n",
      "    return self.func(*args)\n",
      "           ^^^^^^^^^^^^^^^^\n",
      "  File \"C:\\Users\\Khush Trivedi\\AppData\\Local\\Temp\\ipykernel_45392\\3972728098.py\", line 111, in prev\n",
      "    updater(stats,imgd)\n",
      "  File \"C:\\Users\\Khush Trivedi\\AppData\\Local\\Temp\\ipykernel_45392\\3972728098.py\", line 55, in updater\n",
      "    megaevo.grid(row=-13, column=-1)\n",
      "    ^^^^^^^^^^^^\n",
      "AttributeError: 'NoneType' object has no attribute 'grid'\n"
     ]
    },
    {
     "name": "stdout",
     "output_type": "stream",
     "text": [
      "Updating\n",
      "[536.0, 'PALPITOAD', 'WATER', 'GROUND', 75, 65, 55, 65, 55, 69, 384, 'SWIFT SWIM', 'HYDRATION', 'WATER ABSORB', 'NA', 'PALPITOAD']\n"
     ]
    },
    {
     "name": "stderr",
     "output_type": "stream",
     "text": [
      "Exception in Tkinter callback\n",
      "Traceback (most recent call last):\n",
      "  File \"c:\\Users\\Khush Trivedi\\AppData\\Local\\Programs\\Python\\Python311\\Lib\\tkinter\\__init__.py\", line 1948, in __call__\n",
      "    return self.func(*args)\n",
      "           ^^^^^^^^^^^^^^^^\n",
      "  File \"C:\\Users\\Khush Trivedi\\AppData\\Local\\Temp\\ipykernel_45392\\3972728098.py\", line 111, in prev\n",
      "    updater(stats,imgd)\n",
      "  File \"C:\\Users\\Khush Trivedi\\AppData\\Local\\Temp\\ipykernel_45392\\3972728098.py\", line 55, in updater\n",
      "    megaevo.grid(row=-13, column=-1)\n",
      "    ^^^^^^^^^^^^\n",
      "AttributeError: 'NoneType' object has no attribute 'grid'\n"
     ]
    },
    {
     "name": "stdout",
     "output_type": "stream",
     "text": [
      "Updating\n",
      "[535.0, 'TYMPOLE', 'WATER', 'NA', 50, 50, 40, 50, 40, 64, 294, 'SWIFT SWIM', 'HYDRATION', 'WATER ABSORB', 'NA', 'TYMPOLE']\n"
     ]
    },
    {
     "name": "stderr",
     "output_type": "stream",
     "text": [
      "Exception in Tkinter callback\n",
      "Traceback (most recent call last):\n",
      "  File \"c:\\Users\\Khush Trivedi\\AppData\\Local\\Programs\\Python\\Python311\\Lib\\tkinter\\__init__.py\", line 1948, in __call__\n",
      "    return self.func(*args)\n",
      "           ^^^^^^^^^^^^^^^^\n",
      "  File \"C:\\Users\\Khush Trivedi\\AppData\\Local\\Temp\\ipykernel_45392\\3972728098.py\", line 111, in prev\n",
      "    updater(stats,imgd)\n",
      "  File \"C:\\Users\\Khush Trivedi\\AppData\\Local\\Temp\\ipykernel_45392\\3972728098.py\", line 55, in updater\n",
      "    megaevo.grid(row=-13, column=-1)\n",
      "    ^^^^^^^^^^^^\n",
      "AttributeError: 'NoneType' object has no attribute 'grid'\n"
     ]
    },
    {
     "name": "stdout",
     "output_type": "stream",
     "text": [
      "Updating\n",
      "[534.0, 'CONKELDURR', 'FIGHTING', 'NA', 105, 140, 95, 55, 65, 45, 505, 'GUTS', 'SHEER FORCE', 'IRON FIST', 'NA', 'CONKELDURR']\n"
     ]
    },
    {
     "name": "stderr",
     "output_type": "stream",
     "text": [
      "Exception in Tkinter callback\n",
      "Traceback (most recent call last):\n",
      "  File \"c:\\Users\\Khush Trivedi\\AppData\\Local\\Programs\\Python\\Python311\\Lib\\tkinter\\__init__.py\", line 1948, in __call__\n",
      "    return self.func(*args)\n",
      "           ^^^^^^^^^^^^^^^^\n",
      "  File \"C:\\Users\\Khush Trivedi\\AppData\\Local\\Temp\\ipykernel_45392\\3972728098.py\", line 111, in prev\n",
      "    updater(stats,imgd)\n",
      "  File \"C:\\Users\\Khush Trivedi\\AppData\\Local\\Temp\\ipykernel_45392\\3972728098.py\", line 55, in updater\n",
      "    megaevo.grid(row=-13, column=-1)\n",
      "    ^^^^^^^^^^^^\n",
      "AttributeError: 'NoneType' object has no attribute 'grid'\n"
     ]
    },
    {
     "name": "stdout",
     "output_type": "stream",
     "text": [
      "Updating\n",
      "[533.0, 'GURDURR', 'FIGHTING', 'NA', 85, 105, 85, 40, 50, 40, 405, 'GUTS', 'SHEER FORCE', 'IRON FIST', 'NA', 'GURDURR']\n",
      "Updating\n",
      "[532.0, 'TIMBURR', 'FIGHTING', 'NA', 75, 80, 55, 25, 35, 35, 305, 'GUTS', 'SHEER FORCE', 'IRON FIST', 'NA', 'TIMBURR']\n"
     ]
    },
    {
     "name": "stderr",
     "output_type": "stream",
     "text": [
      "Exception in Tkinter callback\n",
      "Traceback (most recent call last):\n",
      "  File \"c:\\Users\\Khush Trivedi\\AppData\\Local\\Programs\\Python\\Python311\\Lib\\tkinter\\__init__.py\", line 1948, in __call__\n",
      "    return self.func(*args)\n",
      "           ^^^^^^^^^^^^^^^^\n",
      "  File \"C:\\Users\\Khush Trivedi\\AppData\\Local\\Temp\\ipykernel_45392\\3972728098.py\", line 111, in prev\n",
      "    updater(stats,imgd)\n",
      "  File \"C:\\Users\\Khush Trivedi\\AppData\\Local\\Temp\\ipykernel_45392\\3972728098.py\", line 55, in updater\n",
      "    megaevo.grid(row=-13, column=-1)\n",
      "    ^^^^^^^^^^^^\n",
      "AttributeError: 'NoneType' object has no attribute 'grid'\n",
      "Exception in Tkinter callback\n",
      "Traceback (most recent call last):\n",
      "  File \"c:\\Users\\Khush Trivedi\\AppData\\Local\\Programs\\Python\\Python311\\Lib\\tkinter\\__init__.py\", line 1948, in __call__\n",
      "    return self.func(*args)\n",
      "           ^^^^^^^^^^^^^^^^\n",
      "  File \"C:\\Users\\Khush Trivedi\\AppData\\Local\\Temp\\ipykernel_45392\\3972728098.py\", line 111, in prev\n",
      "    updater(stats,imgd)\n",
      "  File \"C:\\Users\\Khush Trivedi\\AppData\\Local\\Temp\\ipykernel_45392\\3972728098.py\", line 55, in updater\n",
      "    megaevo.grid(row=-13, column=-1)\n",
      "    ^^^^^^^^^^^^\n",
      "AttributeError: 'NoneType' object has no attribute 'grid'\n"
     ]
    },
    {
     "name": "stdout",
     "output_type": "stream",
     "text": [
      "Updating\n",
      "[531.0, 'AUDINO', 'NORMAL', 'NA', 103, 60, 86, 60, 86, 50, 445, 'HEALER', 'REGENERATOR', 'KLUTZ', 'TRUE', 'AUDINO']\n",
      "mega\n",
      "Updating\n",
      "[530.0, 'EXCADRILL', 'GROUND', 'STEEL', 110, 135, 60, 50, 65, 88, 508, 'SAND RUSH', 'SAND FORCE', 'MOLD BREAKER', 'NA', 'EXCADRILL']\n"
     ]
    },
    {
     "name": "stderr",
     "output_type": "stream",
     "text": [
      "Exception in Tkinter callback\n",
      "Traceback (most recent call last):\n",
      "  File \"c:\\Users\\Khush Trivedi\\AppData\\Local\\Programs\\Python\\Python311\\Lib\\tkinter\\__init__.py\", line 1948, in __call__\n",
      "    return self.func(*args)\n",
      "           ^^^^^^^^^^^^^^^^\n",
      "  File \"C:\\Users\\Khush Trivedi\\AppData\\Local\\Temp\\ipykernel_45392\\3972728098.py\", line 111, in prev\n",
      "    updater(stats,imgd)\n",
      "  File \"C:\\Users\\Khush Trivedi\\AppData\\Local\\Temp\\ipykernel_45392\\3972728098.py\", line 52, in updater\n",
      "    megaevo.grid(row=13, column=1)\n",
      "    ^^^^^^^^^^^^\n",
      "AttributeError: 'NoneType' object has no attribute 'grid'\n",
      "Exception in Tkinter callback\n",
      "Traceback (most recent call last):\n",
      "  File \"c:\\Users\\Khush Trivedi\\AppData\\Local\\Programs\\Python\\Python311\\Lib\\tkinter\\__init__.py\", line 1948, in __call__\n",
      "    return self.func(*args)\n",
      "           ^^^^^^^^^^^^^^^^\n",
      "  File \"C:\\Users\\Khush Trivedi\\AppData\\Local\\Temp\\ipykernel_45392\\3972728098.py\", line 111, in prev\n",
      "    updater(stats,imgd)\n",
      "  File \"C:\\Users\\Khush Trivedi\\AppData\\Local\\Temp\\ipykernel_45392\\3972728098.py\", line 55, in updater\n",
      "    megaevo.grid(row=-13, column=-1)\n",
      "    ^^^^^^^^^^^^\n",
      "AttributeError: 'NoneType' object has no attribute 'grid'\n"
     ]
    },
    {
     "name": "stdout",
     "output_type": "stream",
     "text": [
      "Updating\n",
      "[529.0, 'DRILBUR', 'GROUND', 'NA', 60, 85, 40, 30, 45, 68, 328, 'SAND RUSH', 'SAND FORCE', 'MOLD BREAKER', 'NA', 'DRILBUR']\n"
     ]
    },
    {
     "name": "stderr",
     "output_type": "stream",
     "text": [
      "Exception in Tkinter callback\n",
      "Traceback (most recent call last):\n",
      "  File \"c:\\Users\\Khush Trivedi\\AppData\\Local\\Programs\\Python\\Python311\\Lib\\tkinter\\__init__.py\", line 1948, in __call__\n",
      "    return self.func(*args)\n",
      "           ^^^^^^^^^^^^^^^^\n",
      "  File \"C:\\Users\\Khush Trivedi\\AppData\\Local\\Temp\\ipykernel_45392\\3972728098.py\", line 111, in prev\n",
      "    updater(stats,imgd)\n",
      "  File \"C:\\Users\\Khush Trivedi\\AppData\\Local\\Temp\\ipykernel_45392\\3972728098.py\", line 55, in updater\n",
      "    megaevo.grid(row=-13, column=-1)\n",
      "    ^^^^^^^^^^^^\n",
      "AttributeError: 'NoneType' object has no attribute 'grid'\n"
     ]
    },
    {
     "name": "stdout",
     "output_type": "stream",
     "text": [
      "Updating\n",
      "[530.0, 'EXCADRILL', 'GROUND', 'STEEL', 110, 135, 60, 50, 65, 88, 508, 'SAND RUSH', 'SAND FORCE', 'MOLD BREAKER', 'NA', 'EXCADRILL']\n",
      "Updating\n",
      "[531.0, 'AUDINO', 'NORMAL', 'NA', 103, 60, 86, 60, 86, 50, 445, 'HEALER', 'REGENERATOR', 'KLUTZ', 'TRUE', 'AUDINO']\n",
      "mega\n"
     ]
    },
    {
     "name": "stderr",
     "output_type": "stream",
     "text": [
      "Exception in Tkinter callback\n",
      "Traceback (most recent call last):\n",
      "  File \"c:\\Users\\Khush Trivedi\\AppData\\Local\\Programs\\Python\\Python311\\Lib\\tkinter\\__init__.py\", line 1948, in __call__\n",
      "    return self.func(*args)\n",
      "           ^^^^^^^^^^^^^^^^\n",
      "  File \"C:\\Users\\Khush Trivedi\\AppData\\Local\\Temp\\ipykernel_45392\\3972728098.py\", line 103, in nex\n",
      "    updater(stats,imgd)\n",
      "  File \"C:\\Users\\Khush Trivedi\\AppData\\Local\\Temp\\ipykernel_45392\\3972728098.py\", line 55, in updater\n",
      "    megaevo.grid(row=-13, column=-1)\n",
      "    ^^^^^^^^^^^^\n",
      "AttributeError: 'NoneType' object has no attribute 'grid'\n",
      "Exception in Tkinter callback\n",
      "Traceback (most recent call last):\n",
      "  File \"c:\\Users\\Khush Trivedi\\AppData\\Local\\Programs\\Python\\Python311\\Lib\\tkinter\\__init__.py\", line 1948, in __call__\n",
      "    return self.func(*args)\n",
      "           ^^^^^^^^^^^^^^^^\n",
      "  File \"C:\\Users\\Khush Trivedi\\AppData\\Local\\Temp\\ipykernel_45392\\3972728098.py\", line 103, in nex\n",
      "    updater(stats,imgd)\n",
      "  File \"C:\\Users\\Khush Trivedi\\AppData\\Local\\Temp\\ipykernel_45392\\3972728098.py\", line 52, in updater\n",
      "    megaevo.grid(row=13, column=1)\n",
      "    ^^^^^^^^^^^^\n",
      "AttributeError: 'NoneType' object has no attribute 'grid'\n"
     ]
    },
    {
     "name": "stdout",
     "output_type": "stream",
     "text": [
      "Updating\n",
      "[531.1, 'MEGA AUDINO', 'NORMAL', 'FAIRY', 103, 60, 126, 80, 126, 50, 545, 'HEALER', 'NA', 'NA', 'NA', 'AUDINO_1']\n"
     ]
    },
    {
     "name": "stderr",
     "output_type": "stream",
     "text": [
      "Exception in Tkinter callback\n",
      "Traceback (most recent call last):\n",
      "  File \"c:\\Users\\Khush Trivedi\\AppData\\Local\\Programs\\Python\\Python311\\Lib\\tkinter\\__init__.py\", line 1948, in __call__\n",
      "    return self.func(*args)\n",
      "           ^^^^^^^^^^^^^^^^\n",
      "  File \"C:\\Users\\Khush Trivedi\\AppData\\Local\\Temp\\ipykernel_45392\\3972728098.py\", line 96, in Mega\n",
      "    updater(stats,imgd)\n",
      "  File \"C:\\Users\\Khush Trivedi\\AppData\\Local\\Temp\\ipykernel_45392\\3972728098.py\", line 55, in updater\n",
      "    megaevo.grid(row=-13, column=-1)\n",
      "    ^^^^^^^^^^^^\n",
      "AttributeError: 'NoneType' object has no attribute 'grid'\n"
     ]
    },
    {
     "name": "stdout",
     "output_type": "stream",
     "text": [
      "Updating\n",
      "[531.1, 'MEGA AUDINO', 'NORMAL', 'FAIRY', 103, 60, 126, 80, 126, 50, 545, 'HEALER', 'NA', 'NA', 'NA', 'AUDINO_1']\n"
     ]
    },
    {
     "name": "stderr",
     "output_type": "stream",
     "text": [
      "Exception in Tkinter callback\n",
      "Traceback (most recent call last):\n",
      "  File \"c:\\Users\\Khush Trivedi\\AppData\\Local\\Programs\\Python\\Python311\\Lib\\tkinter\\__init__.py\", line 1948, in __call__\n",
      "    return self.func(*args)\n",
      "           ^^^^^^^^^^^^^^^^\n",
      "  File \"C:\\Users\\Khush Trivedi\\AppData\\Local\\Temp\\ipykernel_45392\\1084590276.py\", line 3, in <lambda>\n",
      "    shinyfy = Button(root, text=\"Shiny\", command=lambda: Shine(imgd,stats)).grid(row=13, column=2)\n",
      "                                                         ^^^^^^^^^^^^^^^^^\n",
      "  File \"C:\\Users\\Khush Trivedi\\AppData\\Local\\Temp\\ipykernel_45392\\3972728098.py\", line 89, in Shine\n",
      "    updater(stats,imgd)\n",
      "  File \"C:\\Users\\Khush Trivedi\\AppData\\Local\\Temp\\ipykernel_45392\\3972728098.py\", line 55, in updater\n",
      "    megaevo.grid(row=-13, column=-1)\n",
      "    ^^^^^^^^^^^^\n",
      "AttributeError: 'NoneType' object has no attribute 'grid'\n"
     ]
    },
    {
     "name": "stdout",
     "output_type": "stream",
     "text": [
      "Updating\n",
      "[531.1, 'MEGA AUDINO', 'NORMAL', 'FAIRY', 103, 60, 126, 80, 126, 50, 545, 'HEALER', 'NA', 'NA', 'NA', 'AUDINO_1']\n"
     ]
    },
    {
     "name": "stderr",
     "output_type": "stream",
     "text": [
      "Exception in Tkinter callback\n",
      "Traceback (most recent call last):\n",
      "  File \"c:\\Users\\Khush Trivedi\\AppData\\Local\\Programs\\Python\\Python311\\Lib\\tkinter\\__init__.py\", line 1948, in __call__\n",
      "    return self.func(*args)\n",
      "           ^^^^^^^^^^^^^^^^\n",
      "  File \"C:\\Users\\Khush Trivedi\\AppData\\Local\\Temp\\ipykernel_45392\\1084590276.py\", line 3, in <lambda>\n",
      "    shinyfy = Button(root, text=\"Shiny\", command=lambda: Shine(imgd,stats)).grid(row=13, column=2)\n",
      "                                                         ^^^^^^^^^^^^^^^^^\n",
      "  File \"C:\\Users\\Khush Trivedi\\AppData\\Local\\Temp\\ipykernel_45392\\3972728098.py\", line 89, in Shine\n",
      "    updater(stats,imgd)\n",
      "  File \"C:\\Users\\Khush Trivedi\\AppData\\Local\\Temp\\ipykernel_45392\\3972728098.py\", line 55, in updater\n",
      "    megaevo.grid(row=-13, column=-1)\n",
      "    ^^^^^^^^^^^^\n",
      "AttributeError: 'NoneType' object has no attribute 'grid'\n"
     ]
    },
    {
     "name": "stdout",
     "output_type": "stream",
     "text": [
      "Updating\n",
      "[531.1, 'MEGA AUDINO', 'NORMAL', 'FAIRY', 103, 60, 126, 80, 126, 50, 545, 'HEALER', 'NA', 'NA', 'NA', 'AUDINO_1']\n"
     ]
    },
    {
     "name": "stderr",
     "output_type": "stream",
     "text": [
      "Exception in Tkinter callback\n",
      "Traceback (most recent call last):\n",
      "  File \"c:\\Users\\Khush Trivedi\\AppData\\Local\\Programs\\Python\\Python311\\Lib\\tkinter\\__init__.py\", line 1948, in __call__\n",
      "    return self.func(*args)\n",
      "           ^^^^^^^^^^^^^^^^\n",
      "  File \"C:\\Users\\Khush Trivedi\\AppData\\Local\\Temp\\ipykernel_45392\\1084590276.py\", line 3, in <lambda>\n",
      "    shinyfy = Button(root, text=\"Shiny\", command=lambda: Shine(imgd,stats)).grid(row=13, column=2)\n",
      "                                                         ^^^^^^^^^^^^^^^^^\n",
      "  File \"C:\\Users\\Khush Trivedi\\AppData\\Local\\Temp\\ipykernel_45392\\3972728098.py\", line 89, in Shine\n",
      "    updater(stats,imgd)\n",
      "  File \"C:\\Users\\Khush Trivedi\\AppData\\Local\\Temp\\ipykernel_45392\\3972728098.py\", line 55, in updater\n",
      "    megaevo.grid(row=-13, column=-1)\n",
      "    ^^^^^^^^^^^^\n",
      "AttributeError: 'NoneType' object has no attribute 'grid'\n"
     ]
    },
    {
     "name": "stdout",
     "output_type": "stream",
     "text": [
      "Updating\n",
      "[531.1, 'MEGA AUDINO', 'NORMAL', 'FAIRY', 103, 60, 126, 80, 126, 50, 545, 'HEALER', 'NA', 'NA', 'NA', 'AUDINO_1']\n"
     ]
    },
    {
     "name": "stderr",
     "output_type": "stream",
     "text": [
      "Exception in Tkinter callback\n",
      "Traceback (most recent call last):\n",
      "  File \"c:\\Users\\Khush Trivedi\\AppData\\Local\\Programs\\Python\\Python311\\Lib\\tkinter\\__init__.py\", line 1948, in __call__\n",
      "    return self.func(*args)\n",
      "           ^^^^^^^^^^^^^^^^\n",
      "  File \"C:\\Users\\Khush Trivedi\\AppData\\Local\\Temp\\ipykernel_45392\\1084590276.py\", line 2, in <lambda>\n",
      "    flip = Button(root, text=\"Flip\", command=lambda: Flip(imgd,stats)).grid(row=13, column=0)\n",
      "                                                     ^^^^^^^^^^^^^^^^\n",
      "  File \"C:\\Users\\Khush Trivedi\\AppData\\Local\\Temp\\ipykernel_45392\\3972728098.py\", line 77, in Flip\n",
      "    updater(stats,imgd)\n",
      "  File \"C:\\Users\\Khush Trivedi\\AppData\\Local\\Temp\\ipykernel_45392\\3972728098.py\", line 55, in updater\n",
      "    megaevo.grid(row=-13, column=-1)\n",
      "    ^^^^^^^^^^^^\n",
      "AttributeError: 'NoneType' object has no attribute 'grid'\n"
     ]
    },
    {
     "name": "stdout",
     "output_type": "stream",
     "text": [
      "Updating\n",
      "[531.1, 'MEGA AUDINO', 'NORMAL', 'FAIRY', 103, 60, 126, 80, 126, 50, 545, 'HEALER', 'NA', 'NA', 'NA', 'AUDINO_1']\n"
     ]
    },
    {
     "name": "stderr",
     "output_type": "stream",
     "text": [
      "Exception in Tkinter callback\n",
      "Traceback (most recent call last):\n",
      "  File \"c:\\Users\\Khush Trivedi\\AppData\\Local\\Programs\\Python\\Python311\\Lib\\tkinter\\__init__.py\", line 1948, in __call__\n",
      "    return self.func(*args)\n",
      "           ^^^^^^^^^^^^^^^^\n",
      "  File \"C:\\Users\\Khush Trivedi\\AppData\\Local\\Temp\\ipykernel_45392\\1084590276.py\", line 2, in <lambda>\n",
      "    flip = Button(root, text=\"Flip\", command=lambda: Flip(imgd,stats)).grid(row=13, column=0)\n",
      "                                                     ^^^^^^^^^^^^^^^^\n",
      "  File \"C:\\Users\\Khush Trivedi\\AppData\\Local\\Temp\\ipykernel_45392\\3972728098.py\", line 77, in Flip\n",
      "    updater(stats,imgd)\n",
      "  File \"C:\\Users\\Khush Trivedi\\AppData\\Local\\Temp\\ipykernel_45392\\3972728098.py\", line 55, in updater\n",
      "    megaevo.grid(row=-13, column=-1)\n",
      "    ^^^^^^^^^^^^\n",
      "AttributeError: 'NoneType' object has no attribute 'grid'\n"
     ]
    },
    {
     "name": "stdout",
     "output_type": "stream",
     "text": [
      "Updating\n",
      "[531.1, 'MEGA AUDINO', 'NORMAL', 'FAIRY', 103, 60, 126, 80, 126, 50, 545, 'HEALER', 'NA', 'NA', 'NA', 'AUDINO_1']\n"
     ]
    },
    {
     "name": "stderr",
     "output_type": "stream",
     "text": [
      "Exception in Tkinter callback\n",
      "Traceback (most recent call last):\n",
      "  File \"c:\\Users\\Khush Trivedi\\AppData\\Local\\Programs\\Python\\Python311\\Lib\\tkinter\\__init__.py\", line 1948, in __call__\n",
      "    return self.func(*args)\n",
      "           ^^^^^^^^^^^^^^^^\n",
      "  File \"C:\\Users\\Khush Trivedi\\AppData\\Local\\Temp\\ipykernel_45392\\1084590276.py\", line 3, in <lambda>\n",
      "    shinyfy = Button(root, text=\"Shiny\", command=lambda: Shine(imgd,stats)).grid(row=13, column=2)\n",
      "                                                         ^^^^^^^^^^^^^^^^^\n",
      "  File \"C:\\Users\\Khush Trivedi\\AppData\\Local\\Temp\\ipykernel_45392\\3972728098.py\", line 89, in Shine\n",
      "    updater(stats,imgd)\n",
      "  File \"C:\\Users\\Khush Trivedi\\AppData\\Local\\Temp\\ipykernel_45392\\3972728098.py\", line 55, in updater\n",
      "    megaevo.grid(row=-13, column=-1)\n",
      "    ^^^^^^^^^^^^\n",
      "AttributeError: 'NoneType' object has no attribute 'grid'\n"
     ]
    },
    {
     "name": "stdout",
     "output_type": "stream",
     "text": [
      "233\n",
      "Updating\n",
      "[233.0, 'PORYGON2', 'NORMAL', 'NA', 85, 80, 90, 105, 95, 60, 515, 'TRACE', 'DOWNLOAD', 'ANALYTIC', 'NA', 'PORYGON2']\n"
     ]
    },
    {
     "name": "stderr",
     "output_type": "stream",
     "text": [
      "Exception in Tkinter callback\n",
      "Traceback (most recent call last):\n",
      "  File \"c:\\Users\\Khush Trivedi\\AppData\\Local\\Programs\\Python\\Python311\\Lib\\tkinter\\__init__.py\", line 1948, in __call__\n",
      "    return self.func(*args)\n",
      "           ^^^^^^^^^^^^^^^^\n",
      "  File \"C:\\Users\\Khush Trivedi\\AppData\\Local\\Temp\\ipykernel_45392\\3972728098.py\", line 120, in random\n",
      "    updater(stats,imgd)\n",
      "  File \"C:\\Users\\Khush Trivedi\\AppData\\Local\\Temp\\ipykernel_45392\\3972728098.py\", line 55, in updater\n",
      "    megaevo.grid(row=-13, column=-1)\n",
      "    ^^^^^^^^^^^^\n",
      "AttributeError: 'NoneType' object has no attribute 'grid'\n"
     ]
    },
    {
     "name": "stdout",
     "output_type": "stream",
     "text": [
      "148\n",
      "Updating\n",
      "[148.0, 'DRAGONAIR', 'DRAGON', 'NA', 61, 84, 65, 70, 70, 70, 420, 'SHED SKIN', 'NA', 'MARVEL SCALE', 'NA', 'DRAGONAIR']\n"
     ]
    },
    {
     "name": "stderr",
     "output_type": "stream",
     "text": [
      "Exception in Tkinter callback\n",
      "Traceback (most recent call last):\n",
      "  File \"c:\\Users\\Khush Trivedi\\AppData\\Local\\Programs\\Python\\Python311\\Lib\\tkinter\\__init__.py\", line 1948, in __call__\n",
      "    return self.func(*args)\n",
      "           ^^^^^^^^^^^^^^^^\n",
      "  File \"C:\\Users\\Khush Trivedi\\AppData\\Local\\Temp\\ipykernel_45392\\3972728098.py\", line 120, in random\n",
      "    updater(stats,imgd)\n",
      "  File \"C:\\Users\\Khush Trivedi\\AppData\\Local\\Temp\\ipykernel_45392\\3972728098.py\", line 55, in updater\n",
      "    megaevo.grid(row=-13, column=-1)\n",
      "    ^^^^^^^^^^^^\n",
      "AttributeError: 'NoneType' object has no attribute 'grid'\n"
     ]
    },
    {
     "name": "stdout",
     "output_type": "stream",
     "text": [
      "Updating\n",
      "[148.0, 'DRAGONAIR', 'DRAGON', 'NA', 61, 84, 65, 70, 70, 70, 420, 'SHED SKIN', 'NA', 'MARVEL SCALE', 'NA', 'DRAGONAIR']\n"
     ]
    },
    {
     "name": "stderr",
     "output_type": "stream",
     "text": [
      "Exception in Tkinter callback\n",
      "Traceback (most recent call last):\n",
      "  File \"c:\\Users\\Khush Trivedi\\AppData\\Local\\Programs\\Python\\Python311\\Lib\\tkinter\\__init__.py\", line 1948, in __call__\n",
      "    return self.func(*args)\n",
      "           ^^^^^^^^^^^^^^^^\n",
      "  File \"C:\\Users\\Khush Trivedi\\AppData\\Local\\Temp\\ipykernel_45392\\1084590276.py\", line 3, in <lambda>\n",
      "    shinyfy = Button(root, text=\"Shiny\", command=lambda: Shine(imgd,stats)).grid(row=13, column=2)\n",
      "                                                         ^^^^^^^^^^^^^^^^^\n",
      "  File \"C:\\Users\\Khush Trivedi\\AppData\\Local\\Temp\\ipykernel_45392\\3972728098.py\", line 89, in Shine\n",
      "    updater(stats,imgd)\n",
      "  File \"C:\\Users\\Khush Trivedi\\AppData\\Local\\Temp\\ipykernel_45392\\3972728098.py\", line 55, in updater\n",
      "    megaevo.grid(row=-13, column=-1)\n",
      "    ^^^^^^^^^^^^\n",
      "AttributeError: 'NoneType' object has no attribute 'grid'\n"
     ]
    },
    {
     "name": "stdout",
     "output_type": "stream",
     "text": [
      "327\n",
      "Updating\n",
      "[327.0, 'SPINDA', 'NORMAL', 'NA', 60, 60, 60, 60, 60, 60, 360, 'OWN TEMPO', 'TANGLED FEET', 'CONTRARY', 'NA', 'SPINDA']\n"
     ]
    },
    {
     "name": "stderr",
     "output_type": "stream",
     "text": [
      "Exception in Tkinter callback\n",
      "Traceback (most recent call last):\n",
      "  File \"c:\\Users\\Khush Trivedi\\AppData\\Local\\Programs\\Python\\Python311\\Lib\\tkinter\\__init__.py\", line 1948, in __call__\n",
      "    return self.func(*args)\n",
      "           ^^^^^^^^^^^^^^^^\n",
      "  File \"C:\\Users\\Khush Trivedi\\AppData\\Local\\Temp\\ipykernel_45392\\3972728098.py\", line 120, in random\n",
      "    updater(stats,imgd)\n",
      "  File \"C:\\Users\\Khush Trivedi\\AppData\\Local\\Temp\\ipykernel_45392\\3972728098.py\", line 55, in updater\n",
      "    megaevo.grid(row=-13, column=-1)\n",
      "    ^^^^^^^^^^^^\n",
      "AttributeError: 'NoneType' object has no attribute 'grid'\n"
     ]
    },
    {
     "name": "stdout",
     "output_type": "stream",
     "text": [
      "66\n",
      "Updating\n",
      "[66.0, 'MACHOP', 'FIGHTING', 'NA', 70, 80, 50, 35, 35, 35, 305, 'GUTS', 'NO GUARD', 'STEADFAST', 'NA', 'MACHOP']\n"
     ]
    },
    {
     "name": "stderr",
     "output_type": "stream",
     "text": [
      "Exception in Tkinter callback\n",
      "Traceback (most recent call last):\n",
      "  File \"c:\\Users\\Khush Trivedi\\AppData\\Local\\Programs\\Python\\Python311\\Lib\\tkinter\\__init__.py\", line 1948, in __call__\n",
      "    return self.func(*args)\n",
      "           ^^^^^^^^^^^^^^^^\n",
      "  File \"C:\\Users\\Khush Trivedi\\AppData\\Local\\Temp\\ipykernel_45392\\3972728098.py\", line 120, in random\n",
      "    updater(stats,imgd)\n",
      "  File \"C:\\Users\\Khush Trivedi\\AppData\\Local\\Temp\\ipykernel_45392\\3972728098.py\", line 55, in updater\n",
      "    megaevo.grid(row=-13, column=-1)\n",
      "    ^^^^^^^^^^^^\n",
      "AttributeError: 'NoneType' object has no attribute 'grid'\n"
     ]
    },
    {
     "name": "stdout",
     "output_type": "stream",
     "text": [
      "111\n",
      "Updating\n",
      "[111.0, 'RHYHORN', 'GROUND', 'ROCK', 80, 85, 95, 30, 30, 25, 345, 'LIGHTNING ROD', 'ROCK HEAD', 'RECKLESS', 'NA', 'RHYHORN']\n"
     ]
    },
    {
     "name": "stderr",
     "output_type": "stream",
     "text": [
      "Exception in Tkinter callback\n",
      "Traceback (most recent call last):\n",
      "  File \"c:\\Users\\Khush Trivedi\\AppData\\Local\\Programs\\Python\\Python311\\Lib\\tkinter\\__init__.py\", line 1948, in __call__\n",
      "    return self.func(*args)\n",
      "           ^^^^^^^^^^^^^^^^\n",
      "  File \"C:\\Users\\Khush Trivedi\\AppData\\Local\\Temp\\ipykernel_45392\\3972728098.py\", line 120, in random\n",
      "    updater(stats,imgd)\n",
      "  File \"C:\\Users\\Khush Trivedi\\AppData\\Local\\Temp\\ipykernel_45392\\3972728098.py\", line 55, in updater\n",
      "    megaevo.grid(row=-13, column=-1)\n",
      "    ^^^^^^^^^^^^\n",
      "AttributeError: 'NoneType' object has no attribute 'grid'\n"
     ]
    },
    {
     "name": "stdout",
     "output_type": "stream",
     "text": [
      "Updating\n",
      "[112.0, 'RHYDON', 'GROUND', 'ROCK', 105, 130, 120, 45, 45, 40, 485, 'LIGHTNING ROD', 'ROCK HEAD', 'RECKLESS', 'NA', 'RHYDON']\n",
      "Updating\n",
      "[113.0, 'CHANSEY', 'NORMAL', 'NA', 250, 5, 5, 35, 105, 50, 450, 'NATURAL CURE', 'SERENE GRACE', 'HEALER', 'NA', 'CHANSEY']\n"
     ]
    },
    {
     "name": "stderr",
     "output_type": "stream",
     "text": [
      "Exception in Tkinter callback\n",
      "Traceback (most recent call last):\n",
      "  File \"c:\\Users\\Khush Trivedi\\AppData\\Local\\Programs\\Python\\Python311\\Lib\\tkinter\\__init__.py\", line 1948, in __call__\n",
      "    return self.func(*args)\n",
      "           ^^^^^^^^^^^^^^^^\n",
      "  File \"C:\\Users\\Khush Trivedi\\AppData\\Local\\Temp\\ipykernel_45392\\3972728098.py\", line 103, in nex\n",
      "    updater(stats,imgd)\n",
      "  File \"C:\\Users\\Khush Trivedi\\AppData\\Local\\Temp\\ipykernel_45392\\3972728098.py\", line 55, in updater\n",
      "    megaevo.grid(row=-13, column=-1)\n",
      "    ^^^^^^^^^^^^\n",
      "AttributeError: 'NoneType' object has no attribute 'grid'\n",
      "Exception in Tkinter callback\n",
      "Traceback (most recent call last):\n",
      "  File \"c:\\Users\\Khush Trivedi\\AppData\\Local\\Programs\\Python\\Python311\\Lib\\tkinter\\__init__.py\", line 1948, in __call__\n",
      "    return self.func(*args)\n",
      "           ^^^^^^^^^^^^^^^^\n",
      "  File \"C:\\Users\\Khush Trivedi\\AppData\\Local\\Temp\\ipykernel_45392\\3972728098.py\", line 103, in nex\n",
      "    updater(stats,imgd)\n",
      "  File \"C:\\Users\\Khush Trivedi\\AppData\\Local\\Temp\\ipykernel_45392\\3972728098.py\", line 55, in updater\n",
      "    megaevo.grid(row=-13, column=-1)\n",
      "    ^^^^^^^^^^^^\n",
      "AttributeError: 'NoneType' object has no attribute 'grid'\n"
     ]
    },
    {
     "name": "stdout",
     "output_type": "stream",
     "text": [
      "Updating\n",
      "[114.0, 'TANGELA', 'GRASS', 'NA', 65, 55, 115, 100, 40, 60, 435, 'CHLOROPHYLL', 'LEAF GUARD', 'REGENERATOR', 'NA', 'TANGELA']\n"
     ]
    },
    {
     "name": "stderr",
     "output_type": "stream",
     "text": [
      "Exception in Tkinter callback\n",
      "Traceback (most recent call last):\n",
      "  File \"c:\\Users\\Khush Trivedi\\AppData\\Local\\Programs\\Python\\Python311\\Lib\\tkinter\\__init__.py\", line 1948, in __call__\n",
      "    return self.func(*args)\n",
      "           ^^^^^^^^^^^^^^^^\n",
      "  File \"C:\\Users\\Khush Trivedi\\AppData\\Local\\Temp\\ipykernel_45392\\3972728098.py\", line 103, in nex\n",
      "    updater(stats,imgd)\n",
      "  File \"C:\\Users\\Khush Trivedi\\AppData\\Local\\Temp\\ipykernel_45392\\3972728098.py\", line 55, in updater\n",
      "    megaevo.grid(row=-13, column=-1)\n",
      "    ^^^^^^^^^^^^\n",
      "AttributeError: 'NoneType' object has no attribute 'grid'\n"
     ]
    },
    {
     "name": "stdout",
     "output_type": "stream",
     "text": [
      "Updating\n",
      "[115.0, 'KANGASKHAN', 'NORMAL', 'NA', 105, 95, 80, 40, 80, 90, 490, 'EARLY BIRD', 'SCRAPPY', 'INNER FOCUS', 'TRUE', 'KANGASKHAN']\n",
      "mega\n"
     ]
    },
    {
     "name": "stderr",
     "output_type": "stream",
     "text": [
      "Exception in Tkinter callback\n",
      "Traceback (most recent call last):\n",
      "  File \"c:\\Users\\Khush Trivedi\\AppData\\Local\\Programs\\Python\\Python311\\Lib\\tkinter\\__init__.py\", line 1948, in __call__\n",
      "    return self.func(*args)\n",
      "           ^^^^^^^^^^^^^^^^\n",
      "  File \"C:\\Users\\Khush Trivedi\\AppData\\Local\\Temp\\ipykernel_45392\\3972728098.py\", line 103, in nex\n",
      "    updater(stats,imgd)\n",
      "  File \"C:\\Users\\Khush Trivedi\\AppData\\Local\\Temp\\ipykernel_45392\\3972728098.py\", line 52, in updater\n",
      "    megaevo.grid(row=13, column=1)\n",
      "    ^^^^^^^^^^^^\n",
      "AttributeError: 'NoneType' object has no attribute 'grid'\n"
     ]
    },
    {
     "name": "stdout",
     "output_type": "stream",
     "text": [
      "Updating\n",
      "[115.1, 'MEGA KANGASKHAN', 'NORMAL', 'NA', 105, 125, 100, 60, 100, 100, 590, 'PARENTAL BOND', 'NA', 'NA', 'NA', 'KANGASKHAN_1']\n"
     ]
    },
    {
     "name": "stderr",
     "output_type": "stream",
     "text": [
      "Exception in Tkinter callback\n",
      "Traceback (most recent call last):\n",
      "  File \"c:\\Users\\Khush Trivedi\\AppData\\Local\\Programs\\Python\\Python311\\Lib\\tkinter\\__init__.py\", line 1948, in __call__\n",
      "    return self.func(*args)\n",
      "           ^^^^^^^^^^^^^^^^\n",
      "  File \"C:\\Users\\Khush Trivedi\\AppData\\Local\\Temp\\ipykernel_45392\\3972728098.py\", line 96, in Mega\n",
      "    updater(stats,imgd)\n",
      "  File \"C:\\Users\\Khush Trivedi\\AppData\\Local\\Temp\\ipykernel_45392\\3972728098.py\", line 55, in updater\n",
      "    megaevo.grid(row=-13, column=-1)\n",
      "    ^^^^^^^^^^^^\n",
      "AttributeError: 'NoneType' object has no attribute 'grid'\n",
      "Exception in Tkinter callback\n",
      "Traceback (most recent call last):\n",
      "  File \"c:\\Users\\Khush Trivedi\\AppData\\Local\\Programs\\Python\\Python311\\Lib\\tkinter\\__init__.py\", line 1948, in __call__\n",
      "    return self.func(*args)\n",
      "           ^^^^^^^^^^^^^^^^\n",
      "  File \"C:\\Users\\Khush Trivedi\\AppData\\Local\\Temp\\ipykernel_45392\\3972728098.py\", line 94, in Mega\n",
      "    stats = df[df['No.'] == curr_ind].values.tolist()[0]\n",
      "            ~~~~~~~~~~~~~~~~~~~~~~~~~~~~~~~~~~~~~~~~~^^^\n",
      "IndexError: list index out of range\n"
     ]
    }
   ],
   "source": [
    "root.mainloop()"
   ]
  },
  {
   "cell_type": "code",
   "execution_count": 10,
   "metadata": {},
   "outputs": [],
   "source": [
    "# nod.pack()\n",
    "# named.pack()\n",
    "# typd.pack()\n",
    "# hpd.pack()\n",
    "# atkd.pack()\n",
    "# defd.pack()\n",
    "# spatkd.pack()\n",
    "# spdefd.pack()\n",
    "# sped.pack()\n",
    "# bstd.pack()\n",
    "# habd.pack()\n",
    "# ab2d.pack()\n",
    "# ab1d.pack()"
   ]
  },
  {
   "cell_type": "code",
   "execution_count": null,
   "metadata": {},
   "outputs": [],
   "source": []
  },
  {
   "cell_type": "code",
   "execution_count": null,
   "metadata": {},
   "outputs": [],
   "source": []
  }
 ],
 "metadata": {
  "kernelspec": {
   "display_name": "Python 3",
   "language": "python",
   "name": "python3"
  },
  "language_info": {
   "codemirror_mode": {
    "name": "ipython",
    "version": 3
   },
   "file_extension": ".py",
   "mimetype": "text/x-python",
   "name": "python",
   "nbconvert_exporter": "python",
   "pygments_lexer": "ipython3",
   "version": "3.11.7"
  }
 },
 "nbformat": 4,
 "nbformat_minor": 2
}
